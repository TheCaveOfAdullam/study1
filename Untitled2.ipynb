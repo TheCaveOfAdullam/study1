{
 "cells": [
  {
   "cell_type": "code",
   "execution_count": 7,
   "id": "335f7ee5-98d6-4f44-b896-260baf31fe61",
   "metadata": {},
   "outputs": [],
   "source": [
    "import os\n",
    "import numpy as np\n",
    "import pandas as pd\n",
    "from scipy.signal import spectrogram\n",
    "import matplotlib.pyplot as plt\n",
    "\n",
    "# 폴더 내의 모든 CSV 파일 가져오기\n",
    "folder_path = \"data/validation/normal\"  # 폴더 경로를 실제 경로로 바꿔주세요\n",
    "file_names = os.listdir(folder_path)\n",
    "csv_files = [file for file in file_names if file.endswith('.csv')]\n",
    "\n",
    "# 출력 폴더 생성\n",
    "output_folder = \"outSpectrogram\"  # 출력 폴더 이름\n",
    "output_path = os.path.join(folder_path, output_folder)\n",
    "os.makedirs(output_path, exist_ok=True)  # 폴더가 없는 경우 생성, 있으면 넘어감\n",
    "\n",
    "# 각 CSV 파일에 대해 작업 수행\n",
    "for csv_file in csv_files:\n",
    "    # CSV 파일 읽기\n",
    "    file_path = os.path.join(folder_path, csv_file)\n",
    "    data = pd.read_csv(file_path)\n",
    "    \n",
    "    # 주파수 데이터 추출\n",
    "    frequencies = data['y'].values\n",
    "    \n",
    "    # 샘플링 주파수 설정\n",
    "    sampling_freq = 1000  # 샘플링 주파수 (예: 1000 Hz)}\n",
    "    \n",
    "    # STFT 계산\n",
    "    f, t, Sxx = spectrogram(frequencies, fs=sampling_freq, nperseg=256, noverlap=128)\n",
    "    \n",
    "    # 스펙트로그램 이미지 생성\n",
    "    # 스펙트로그램 시각화\n",
    "    plt.figure(figsize=(10, 6))\n",
    "    plt.pcolormesh(t, f, 10 * np.log10(Sxx), shading='gouraud')\n",
    "    plt.title('Spectrogram of Frequency Data')\n",
    "    plt.xlabel('Time [s]')\n",
    "    plt.ylabel('Frequency [Hz]')\n",
    "    plt.colorbar(label='Intensity [dB]')\n",
    "    plt.ylim(0, 500)  # 주파수 범위 설정 (예: 0 ~ 500 Hz)\n",
    "    \n",
    "    # 출력 폴더에 이미지 저장\n",
    "    output_file_path = os.path.join(output_path, f\"{csv_file[:-4]}_spectrogram.png\")  # 이미지 파일 경로\n",
    "    plt.savefig(output_file_path)  # 이미지 저장\n",
    "    plt.close()"
   ]
  },
  {
   "cell_type": "code",
   "execution_count": null,
   "id": "f94ad7c5-f6ba-4606-ab5e-062a56f89436",
   "metadata": {},
   "outputs": [],
   "source": []
  }
 ],
 "metadata": {
  "kernelspec": {
   "display_name": "Python 3 (ipykernel)",
   "language": "python",
   "name": "python3"
  },
  "language_info": {
   "codemirror_mode": {
    "name": "ipython",
    "version": 3
   },
   "file_extension": ".py",
   "mimetype": "text/x-python",
   "name": "python",
   "nbconvert_exporter": "python",
   "pygments_lexer": "ipython3",
   "version": "3.11.7"
  }
 },
 "nbformat": 4,
 "nbformat_minor": 5
}
