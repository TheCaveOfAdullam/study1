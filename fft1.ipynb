{
 "cells": [
  {
   "cell_type": "code",
   "execution_count": 3,
   "id": "7cc06b1b-73dd-456f-a4b5-68b565a49a58",
   "metadata": {},
   "outputs": [],
   "source": [
    "import os\n",
    "import pandas as pd\n",
    "import numpy as np\n",
    "import matplotlib.pyplot as plt\n",
    "\n",
    "# 폴더 내의 모든 CSV 파일 가져오기\n",
    "folder_path = \"newData2\"  # 폴더 경로를 실제 경로로 바꿔주세요\n",
    "file_names = os.listdir(folder_path)\n",
    "csv_files = [file for file in file_names if file.endswith('.csv')]\n",
    "\n",
    "# 출력 폴더 생성\n",
    "output_folder = \"outFFT\"  # 출력 폴더 이름\n",
    "output_path = os.path.join(folder_path, output_folder)\n",
    "os.makedirs(output_path, exist_ok=True)  # 폴더가 없는 경우 생성, 있으면 넘어감\n",
    "\n",
    "# 각 CSV 파일에 대해 작업 수행\n",
    "for csv_file in csv_files:\n",
    "    # CSV 파일 읽기\n",
    "    file_path = os.path.join(folder_path, csv_file)\n",
    "    data = pd.read_csv(file_path)\n",
    "\n",
    "    # 시간과 주파수 데이터 추출\n",
    "    time = data['x'].values\n",
    "    frequency = data['y'].values\n",
    "    \n",
    "    # FFT 변\n",
    "    N = len(frequency)  # 데이터 포인트의 개수\n",
    "    T = 1.0 / N  # 샘플링 간격\n",
    "    xf = np.fft.fftfreq(N, T)[:N//2]  # 주파수 범위\n",
    "    yf = np.fft.fft(frequency)  # FFT 수행\n",
    "    yf = 2.0/N * np.abs(yf[:N//2])  # 양쪽 대칭인 부분 제외하고 절반만 사용\n",
    "\n",
    "    # FFT 결과 그래프로 표현\n",
    "    plt.figure(figsize=(10, 4))\n",
    "    plt.plot(xf, yf)\n",
    "    plt.title('FFT Magnitude')\n",
    "    plt.xlabel('Frequency (Hz)')\n",
    "    plt.ylabel('Amplitude')\n",
    "    \n",
    "    # 출력 폴더에 이미지 저장\n",
    "    output_file_path = os.path.join(output_path, f\"{csv_file[:-4]}_fft.png\")  # 이미지 파일 경로\n",
    "    plt.savefig(output_file_path)  # 이미지 저장\n",
    "    plt.close()"
   ]
  },
  {
   "cell_type": "code",
   "execution_count": null,
   "id": "f69bc94f-dbbf-4d49-9600-c36fc1f8b60c",
   "metadata": {},
   "outputs": [],
   "source": []
  }
 ],
 "metadata": {
  "kernelspec": {
   "display_name": "Python 3 (ipykernel)",
   "language": "python",
   "name": "python3"
  },
  "language_info": {
   "codemirror_mode": {
    "name": "ipython",
    "version": 3
   },
   "file_extension": ".py",
   "mimetype": "text/x-python",
   "name": "python",
   "nbconvert_exporter": "python",
   "pygments_lexer": "ipython3",
   "version": "3.11.7"
  }
 },
 "nbformat": 4,
 "nbformat_minor": 5
}
