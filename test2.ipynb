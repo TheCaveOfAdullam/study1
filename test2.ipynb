{
 "cells": [
  {
   "cell_type": "code",
   "execution_count": 3,
   "id": "1df0ffd9-a4b5-4ccd-a26c-9824566a84c2",
   "metadata": {},
   "outputs": [],
   "source": [
    "import pandas as pd\n",
    "import os\n",
    "\n",
    "# 디렉토리 경로 설정\n",
    "directory = 'output_directory'\n",
    "\n",
    "# 디렉토리 내 모든 파일에 대해 작업 수행\n",
    "for filename in os.listdir(directory):\n",
    "    if filename.endswith('.csv'):\n",
    "        file_path = os.path.join(directory, filename)\n",
    "        \n",
    "        # CSV 파일을 DataFrame으로 읽기\n",
    "        df = pd.read_csv(file_path)\n",
    "        \n",
    "        # 첫 번째 행 삭제\n",
    "        df = df.iloc[8:]\n",
    "        \n",
    "        # 첫 번째 행 열값 수정\n",
    "        df.columns = ['x', 'y']  # 열명 변경\n",
    "        \n",
    "        # 수정된 DataFrame을 CSV 파일로 저장\n",
    "        df.to_csv(file_path, index=False)  # 인덱스는 저장하지 않음"
   ]
  },
  {
   "cell_type": "code",
   "execution_count": null,
   "id": "17427baf-eea9-44e0-b8d7-d2dbc9c1b8ee",
   "metadata": {},
   "outputs": [],
   "source": []
  }
 ],
 "metadata": {
  "kernelspec": {
   "display_name": "Python 3 (ipykernel)",
   "language": "python",
   "name": "python3"
  },
  "language_info": {
   "codemirror_mode": {
    "name": "ipython",
    "version": 3
   },
   "file_extension": ".py",
   "mimetype": "text/x-python",
   "name": "python",
   "nbconvert_exporter": "python",
   "pygments_lexer": "ipython3",
   "version": "3.11.7"
  }
 },
 "nbformat": 4,
 "nbformat_minor": 5
}
