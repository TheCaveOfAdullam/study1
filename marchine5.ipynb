{
  "nbformat": 4,
  "nbformat_minor": 0,
  "metadata": {
    "colab": {
      "provenance": [],
      "mount_file_id": "1DgYTPx3pNOtfAfU3s8SDJMA8O2NRP-rB",
      "authorship_tag": "ABX9TyOenIwZjJn0YzWBr/ckHkc8",
      "include_colab_link": true
    },
    "kernelspec": {
      "name": "python3",
      "display_name": "Python 3"
    },
    "language_info": {
      "name": "python"
    }
  },
  "cells": [
    {
      "cell_type": "markdown",
      "metadata": {
        "id": "view-in-github",
        "colab_type": "text"
      },
      "source": [
        "<a href=\"https://colab.research.google.com/github/TheCaveOfAdullam/study1/blob/main/marchine5.ipynb\" target=\"_parent\"><img src=\"https://colab.research.google.com/assets/colab-badge.svg\" alt=\"Open In Colab\"/></a>"
      ]
    },
    {
      "cell_type": "code",
      "execution_count": null,
      "metadata": {
        "id": "pX5bPHqITVci"
      },
      "outputs": [],
      "source": [
        "import os\n",
        "import numpy as np\n",
        "import matplotlib.pyplot as plt\n",
        "import pandas as pd\n",
        "from PIL import Image\n",
        "from keras.models import Sequential\n",
        "from keras.layers import Conv2D, MaxPooling2D, Dropout, Flatten, Dense, BatchNormalization\n",
        "from keras.optimizers import Adam\n",
        "from keras.utils import to_categorical\n",
        "from sklearn.metrics import confusion_matrix, classification_report, accuracy_score"
      ]
    },
    {
      "cell_type": "code",
      "source": [
        "# Set the directory path\n",
        "base_path = '/content/drive/MyDrive/marine_data'\n",
        "os.chdir(base_path)"
      ],
      "metadata": {
        "id": "9GfXv_-cTvvM"
      },
      "execution_count": null,
      "outputs": []
    },
    {
      "cell_type": "code",
      "source": [
        "# Function to resize images\n",
        "def resize_img(img, size):\n",
        "    return img.resize(size)\n",
        "\n",
        "# Function to load and resize images from a directory\n",
        "def load_img(file_path):\n",
        "    data = []\n",
        "    full_path = os.path.join(base_path, file_path)\n",
        "    for f in os.listdir(full_path):\n",
        "        data.append(resize_img(Image.open(os.path.join(full_path, f)), (64, 64)))\n",
        "    return data"
      ],
      "metadata": {
        "id": "AyBJSKJrT0Gz"
      },
      "execution_count": null,
      "outputs": []
    },
    {
      "cell_type": "code",
      "source": [
        "from google.colab import drive\n",
        "drive.mount('/content/drive')"
      ],
      "metadata": {
        "colab": {
          "base_uri": "https://localhost:8080/"
        },
        "id": "B-Q4SfOZWBEA",
        "outputId": "a3e46290-99f1-4cac-8fc6-5df34dcab758"
      },
      "execution_count": null,
      "outputs": [
        {
          "output_type": "stream",
          "name": "stdout",
          "text": [
            "Drive already mounted at /content/drive; to attempt to forcibly remount, call drive.mount(\"/content/drive\", force_remount=True).\n"
          ]
        }
      ]
    },
    {
      "cell_type": "code",
      "source": [
        "# Load images for different sets\n",
        "train_normal = load_img('train/normal')\n",
        "test_normal = load_img('test/normal')\n",
        "val_normal = load_img('validation/normal')\n",
        "\n",
        "train_fault_BB = load_img('train/fault_BB')\n",
        "test_fault_BB = load_img('test/fault_BB')\n",
        "val_fault_BB = load_img('validation/fault_BB')\n",
        "\n",
        "train_fault_SM = load_img('train/fault_SM')\n",
        "test_fault_SM = load_img('test/fault_SM')\n",
        "val_fault_SM = load_img('validation/fault_SM')\n",
        "\n",
        "train_fault_RI = load_img('train/fault_RI')\n",
        "test_fault_RI = load_img('test/fault_RI')\n",
        "val_fault_RI = load_img('validation/fault_RI')"
      ],
      "metadata": {
        "id": "XTUcHZE5T0KE"
      },
      "execution_count": null,
      "outputs": []
    },
    {
      "cell_type": "code",
      "source": [
        "# Print the lengths of the datasets\n",
        "print(len(train_normal), len(test_normal), len(val_normal))\n",
        "print(len(train_fault_BB), len(test_fault_BB), len(val_fault_BB))\n",
        "print(len(train_fault_SM), len(test_fault_SM), len(val_fault_SM))\n",
        "print(len(train_fault_RI), len(test_fault_RI), len(val_fault_RI))"
      ],
      "metadata": {
        "colab": {
          "base_uri": "https://localhost:8080/"
        },
        "id": "RvAfj104T0Ms",
        "outputId": "1110b6cc-a33d-40e2-b09f-39a3ca1452e6"
      },
      "execution_count": null,
      "outputs": [
        {
          "output_type": "stream",
          "name": "stdout",
          "text": [
            "3000 3000 1500\n",
            "3004 3000 1500\n",
            "3000 3000 1500\n",
            "3000 3000 1500\n"
          ]
        }
      ]
    },
    {
      "cell_type": "code",
      "source": [
        "# Function to convert images to arrays and normalize\n",
        "def img_to_array(img):\n",
        "    return np.array(img, dtype='float32') / 255.0"
      ],
      "metadata": {
        "id": "fjpKKMgmT0PD"
      },
      "execution_count": null,
      "outputs": []
    },
    {
      "cell_type": "code",
      "source": [
        "# Convert images to arrays and define labels\n",
        "train_normal_arr = np.array([img_to_array(normal) for normal in train_normal])\n",
        "test_normal_arr = np.array([img_to_array(normal) for normal in test_normal])\n",
        "val_normal_arr = np.array([img_to_array(normal) for normal in val_normal])\n",
        "\n",
        "train_fault_BB_arr = np.array([img_to_array(fault) for fault in train_fault_BB])\n",
        "test_fault_BB_arr = np.array([img_to_array(fault) for fault in test_fault_BB])\n",
        "val_fault_BB_arr = np.array([img_to_array(fault) for fault in val_fault_BB])\n",
        "\n",
        "train_fault_SM_arr = np.array([img_to_array(fault) for fault in train_fault_SM])\n",
        "test_fault_SM_arr = np.array([img_to_array(fault) for fault in test_fault_SM])\n",
        "val_fault_SM_arr = np.array([img_to_array(fault) for fault in val_fault_SM])\n",
        "\n",
        "train_fault_RI_arr = np.array([img_to_array(fault) for fault in train_fault_RI])\n",
        "test_fault_RI_arr = np.array([img_to_array(fault) for fault in test_fault_RI])\n",
        "val_fault_RI_arr = np.array([img_to_array(fault) for fault in val_fault_RI])\n",
        "\n",
        "train_normal_sol = np.array([0] * len(train_normal))\n",
        "test_normal_sol = np.array([0] * len(test_normal))\n",
        "val_normal_sol = np.array([0] * len(val_normal))\n",
        "\n",
        "train_fault_BB_sol = np.array([1] * len(train_fault_BB))\n",
        "test_fault_BB_sol = np.array([1] * len(test_fault_BB))\n",
        "val_fault_BB_sol = np.array([1] * len(val_fault_BB))\n",
        "\n",
        "train_fault_SM_sol = np.array([2] * len(train_fault_SM))\n",
        "test_fault_SM_sol = np.array([2] * len(test_fault_SM))\n",
        "val_fault_SM_sol = np.array([2] * len(val_fault_SM))\n",
        "\n",
        "train_fault_RI_sol = np.array([3] * len(train_fault_RI))\n",
        "test_fault_RI_sol = np.array([3] * len(test_fault_RI))\n",
        "val_fault_RI_sol = np.array([3] * len(val_fault_RI))\n",
        "\n",
        "# Combine data and labels\n",
        "train_img = np.concatenate((train_normal_arr, train_fault_BB_arr, train_fault_SM_arr, train_fault_RI_arr))\n",
        "train_sol = np.concatenate((train_normal_sol, train_fault_BB_sol, train_fault_SM_sol, train_fault_RI_sol))\n",
        "\n",
        "test_img = np.concatenate((test_normal_arr, test_fault_BB_arr, test_fault_SM_arr, test_fault_RI_arr))\n",
        "test_sol = np.concatenate((test_normal_sol, test_fault_BB_sol, test_fault_SM_sol, test_fault_RI_sol))\n",
        "\n",
        "val_img = np.concatenate((val_normal_arr, val_fault_BB_arr, val_fault_SM_arr, val_fault_RI_arr))\n",
        "val_sol = np.concatenate((val_normal_sol, val_fault_BB_sol, val_fault_SM_sol, val_fault_RI_sol))"
      ],
      "metadata": {
        "id": "b33WlvU4T0Rj"
      },
      "execution_count": null,
      "outputs": []
    },
    {
      "cell_type": "code",
      "source": [
        "# One-hot encode the labels\n",
        "train_sol = to_categorical(train_sol, 4)\n",
        "test_sol = to_categorical(test_sol, 4)\n",
        "val_sol = to_categorical(val_sol, 4)"
      ],
      "metadata": {
        "id": "6LjvtH_JT0UD"
      },
      "execution_count": null,
      "outputs": []
    },
    {
      "cell_type": "code",
      "source": [
        "# Build the model\n",
        "model = Sequential()"
      ],
      "metadata": {
        "id": "qCap-92rT0Wl"
      },
      "execution_count": null,
      "outputs": []
    },
    {
      "cell_type": "code",
      "source": [
        "# First block\n",
        "model.add(BatchNormalization(input_shape=train_img.shape[1:]))\n",
        "model.add(Conv2D(filters=64, kernel_size=(5, 5), padding='same', activation='elu'))\n",
        "model.add(MaxPooling2D(pool_size=(2, 2), strides=(2, 2)))\n",
        "model.add(Dropout(0.25))\n",
        "\n",
        "# Second block\n",
        "model.add(BatchNormalization())\n",
        "model.add(Conv2D(128, (5, 5), padding='same', activation='elu'))\n",
        "model.add(MaxPooling2D(pool_size=(2, 2)))\n",
        "model.add(Dropout(0.25))\n",
        "\n",
        "# Third block\n",
        "model.add(BatchNormalization())\n",
        "model.add(Conv2D(256, (5, 5), padding='same', activation='elu'))\n",
        "model.add(MaxPooling2D(pool_size=(2, 2), strides=(2, 2)))\n",
        "model.add(Dropout(0.25))\n",
        "\n",
        "# Fully connected layers\n",
        "model.add(Flatten())\n",
        "model.add(Dense(256, activation='elu'))\n",
        "model.add(Dropout(0.5))\n",
        "model.add(Dense(128, activation='elu'))\n",
        "model.add(Dense(4, activation='softmax'))\n",
        "\n",
        "# Compile the model\n",
        "model.compile(loss='categorical_crossentropy', optimizer=Adam(learning_rate=1e-3), metrics=['accuracy'])"
      ],
      "metadata": {
        "id": "wdgnsS95UA6A"
      },
      "execution_count": null,
      "outputs": []
    },
    {
      "cell_type": "code",
      "source": [
        "# Train the model\n",
        "model.fit(x=train_img, y=train_sol, batch_size=128, epochs=30, verbose=1, validation_data=(val_img, val_sol))"
      ],
      "metadata": {
        "colab": {
          "base_uri": "https://localhost:8080/"
        },
        "id": "4yi2-H-8UA8x",
        "outputId": "ecb994da-6be6-4217-c27d-9cf3d69cd689"
      },
      "execution_count": null,
      "outputs": [
        {
          "output_type": "stream",
          "name": "stdout",
          "text": [
            "Epoch 1/30\n",
            "94/94 [==============================] - 951s 10s/step - loss: 0.5298 - accuracy: 0.9611 - val_loss: 14.4700 - val_accuracy: 0.4992\n",
            "Epoch 2/30\n",
            "94/94 [==============================] - 987s 11s/step - loss: 0.0036 - accuracy: 0.9995 - val_loss: 2.0002e-06 - val_accuracy: 1.0000\n",
            "Epoch 3/30\n",
            "94/94 [==============================] - 1012s 11s/step - loss: 0.0045 - accuracy: 0.9998 - val_loss: 7.4109e-04 - val_accuracy: 0.9997\n",
            "Epoch 4/30\n",
            "94/94 [==============================] - 991s 11s/step - loss: 0.0047 - accuracy: 0.9993 - val_loss: 0.0055 - val_accuracy: 0.9995\n",
            "Epoch 5/30\n",
            "94/94 [==============================] - 1009s 11s/step - loss: 0.0255 - accuracy: 0.9984 - val_loss: 0.0000e+00 - val_accuracy: 1.0000\n",
            "Epoch 6/30\n",
            "94/94 [==============================] - 999s 11s/step - loss: 0.0055 - accuracy: 0.9997 - val_loss: 0.0000e+00 - val_accuracy: 1.0000\n",
            "Epoch 7/30\n",
            "94/94 [==============================] - 996s 11s/step - loss: 0.0010 - accuracy: 0.9998 - val_loss: 0.0000e+00 - val_accuracy: 1.0000\n",
            "Epoch 8/30\n",
            "94/94 [==============================] - 1011s 11s/step - loss: 0.0026 - accuracy: 0.9998 - val_loss: 0.0000e+00 - val_accuracy: 1.0000\n",
            "Epoch 9/30\n",
            "94/94 [==============================] - 1012s 11s/step - loss: 0.0026 - accuracy: 0.9996 - val_loss: 0.0000e+00 - val_accuracy: 1.0000\n",
            "Epoch 10/30\n",
            "94/94 [==============================] - 1018s 11s/step - loss: 0.1826 - accuracy: 0.9969 - val_loss: 0.0000e+00 - val_accuracy: 1.0000\n",
            "Epoch 11/30\n",
            "94/94 [==============================] - 1009s 11s/step - loss: 0.0616 - accuracy: 0.9993 - val_loss: 0.0000e+00 - val_accuracy: 1.0000\n",
            "Epoch 12/30\n",
            "94/94 [==============================] - 985s 11s/step - loss: 0.0369 - accuracy: 0.9997 - val_loss: 0.0000e+00 - val_accuracy: 1.0000\n",
            "Epoch 13/30\n",
            "94/94 [==============================] - 1020s 11s/step - loss: 0.0000e+00 - accuracy: 1.0000 - val_loss: 0.0000e+00 - val_accuracy: 1.0000\n",
            "Epoch 14/30\n",
            "94/94 [==============================] - 1045s 11s/step - loss: 0.0000e+00 - accuracy: 1.0000 - val_loss: 0.0000e+00 - val_accuracy: 1.0000\n",
            "Epoch 15/30\n",
            "94/94 [==============================] - 1039s 11s/step - loss: 0.0040 - accuracy: 0.9999 - val_loss: 0.0000e+00 - val_accuracy: 1.0000\n",
            "Epoch 16/30\n",
            "94/94 [==============================] - 1012s 11s/step - loss: 0.0065 - accuracy: 0.9998 - val_loss: 0.0000e+00 - val_accuracy: 1.0000\n",
            "Epoch 17/30\n",
            "94/94 [==============================] - 1027s 11s/step - loss: 0.0000e+00 - accuracy: 1.0000 - val_loss: 0.0000e+00 - val_accuracy: 1.0000\n",
            "Epoch 18/30\n",
            "94/94 [==============================] - 1024s 11s/step - loss: 0.0054 - accuracy: 0.9998 - val_loss: 0.0000e+00 - val_accuracy: 1.0000\n",
            "Epoch 19/30\n",
            "94/94 [==============================] - 1023s 11s/step - loss: 0.0000e+00 - accuracy: 1.0000 - val_loss: 0.0000e+00 - val_accuracy: 1.0000\n",
            "Epoch 20/30\n",
            "94/94 [==============================] - 1015s 11s/step - loss: 0.0000e+00 - accuracy: 1.0000 - val_loss: 0.0000e+00 - val_accuracy: 1.0000\n",
            "Epoch 21/30\n",
            "94/94 [==============================] - 1010s 11s/step - loss: 0.0000e+00 - accuracy: 1.0000 - val_loss: 0.0000e+00 - val_accuracy: 1.0000\n",
            "Epoch 22/30\n",
            "94/94 [==============================] - 1011s 11s/step - loss: 0.0000e+00 - accuracy: 1.0000 - val_loss: 0.0000e+00 - val_accuracy: 1.0000\n",
            "Epoch 23/30\n",
            "94/94 [==============================] - 1014s 11s/step - loss: 0.0000e+00 - accuracy: 1.0000 - val_loss: 0.0000e+00 - val_accuracy: 1.0000\n",
            "Epoch 24/30\n",
            "94/94 [==============================] - 991s 11s/step - loss: 0.0000e+00 - accuracy: 1.0000 - val_loss: 0.0000e+00 - val_accuracy: 1.0000\n",
            "Epoch 25/30\n",
            "94/94 [==============================] - 1021s 11s/step - loss: 0.0000e+00 - accuracy: 1.0000 - val_loss: 0.0000e+00 - val_accuracy: 1.0000\n",
            "Epoch 26/30\n",
            "94/94 [==============================] - 1014s 11s/step - loss: 0.0000e+00 - accuracy: 1.0000 - val_loss: 0.0000e+00 - val_accuracy: 1.0000\n",
            "Epoch 27/30\n",
            "94/94 [==============================] - 1018s 11s/step - loss: 0.0000e+00 - accuracy: 1.0000 - val_loss: 0.0000e+00 - val_accuracy: 1.0000\n",
            "Epoch 28/30\n",
            "94/94 [==============================] - 1027s 11s/step - loss: 0.0000e+00 - accuracy: 1.0000 - val_loss: 0.0000e+00 - val_accuracy: 1.0000\n",
            "Epoch 29/30\n",
            "94/94 [==============================] - 1008s 11s/step - loss: 0.0000e+00 - accuracy: 1.0000 - val_loss: 0.0000e+00 - val_accuracy: 1.0000\n",
            "Epoch 30/30\n",
            "94/94 [==============================] - 1009s 11s/step - loss: 0.0000e+00 - accuracy: 1.0000 - val_loss: 0.0000e+00 - val_accuracy: 1.0000\n"
          ]
        },
        {
          "output_type": "execute_result",
          "data": {
            "text/plain": [
              "<keras.src.callbacks.History at 0x7964ceea4e80>"
            ]
          },
          "metadata": {},
          "execution_count": 15
        }
      ]
    },
    {
      "cell_type": "code",
      "source": [
        "# Evaluate the model on test data\n",
        "loss, accuracy = model.evaluate(test_img, test_sol, batch_size=128)\n",
        "print(f\"Test Loss: {loss}\")\n",
        "print(f\"Test Accuracy: {accuracy}\")"
      ],
      "metadata": {
        "colab": {
          "base_uri": "https://localhost:8080/"
        },
        "id": "3CYcfP9sUBB3",
        "outputId": "04701742-7a97-49bc-bdfb-f40039de675f"
      },
      "execution_count": null,
      "outputs": [
        {
          "output_type": "stream",
          "name": "stdout",
          "text": [
            "94/94 [==============================] - 236s 2s/step - loss: 0.0000e+00 - accuracy: 1.0000\n",
            "Test Loss: 0.0\n",
            "Test Accuracy: 1.0\n"
          ]
        }
      ]
    },
    {
      "cell_type": "code",
      "source": [
        "# Predict the labels\n",
        "test_pred = model.predict(test_img)\n",
        "test_pred_classes = np.argmax(test_pred, axis=1)\n",
        "test_true_classes = np.argmax(test_sol, axis=1)"
      ],
      "metadata": {
        "colab": {
          "base_uri": "https://localhost:8080/"
        },
        "id": "LrLJnl13UBEY",
        "outputId": "48cbb17a-1b5a-4c4a-f8e7-e0b134239dd5"
      },
      "execution_count": null,
      "outputs": [
        {
          "output_type": "stream",
          "name": "stdout",
          "text": [
            "375/375 [==============================] - 231s 614ms/step\n"
          ]
        }
      ]
    },
    {
      "cell_type": "code",
      "source": [
        "# Confusion matrix\n",
        "conf_matrix = confusion_matrix(test_true_classes, test_pred_classes)\n",
        "print(\"Confusion Matrix:\")\n",
        "print(conf_matrix)"
      ],
      "metadata": {
        "colab": {
          "base_uri": "https://localhost:8080/"
        },
        "id": "cX4lPV-HUBHA",
        "outputId": "89e81df7-fe7a-4c0c-fb53-0e6ecd23c9b9"
      },
      "execution_count": null,
      "outputs": [
        {
          "output_type": "stream",
          "name": "stdout",
          "text": [
            "Confusion Matrix:\n",
            "[[3000    0    0    0]\n",
            " [   0 3000    0    0]\n",
            " [   0    0 3000    0]\n",
            " [   0    0    0 3000]]\n"
          ]
        }
      ]
    },
    {
      "cell_type": "code",
      "source": [
        "# Classification report\n",
        "class_report = classification_report(test_true_classes, test_pred_classes, target_names=['Normal', 'Fault_BB', 'Fault_SM', 'Fault_RI'])\n",
        "print(\"Classification Report:\")\n",
        "print(class_report)"
      ],
      "metadata": {
        "colab": {
          "base_uri": "https://localhost:8080/"
        },
        "id": "nobDxRNMUBJi",
        "outputId": "1fa10467-85cc-4afc-c045-b517a45ae254"
      },
      "execution_count": null,
      "outputs": [
        {
          "output_type": "stream",
          "name": "stdout",
          "text": [
            "Classification Report:\n",
            "              precision    recall  f1-score   support\n",
            "\n",
            "      Normal       1.00      1.00      1.00      3000\n",
            "    Fault_BB       1.00      1.00      1.00      3000\n",
            "    Fault_SM       1.00      1.00      1.00      3000\n",
            "    Fault_RI       1.00      1.00      1.00      3000\n",
            "\n",
            "    accuracy                           1.00     12000\n",
            "   macro avg       1.00      1.00      1.00     12000\n",
            "weighted avg       1.00      1.00      1.00     12000\n",
            "\n"
          ]
        }
      ]
    },
    {
      "cell_type": "code",
      "source": [
        "# Plot confusion matrix\n",
        "plt.figure(figsize=(8, 8))\n",
        "plt.imshow(conf_matrix, interpolation='nearest', cmap=plt.cm.Blues)\n",
        "plt.title('Confusion Matrix')\n",
        "plt.colorbar()\n",
        "tick_marks = np.arange(4)\n",
        "plt.xticks(tick_marks, ['Normal', 'Fault_BB', 'Fault_SM', 'Fault_RI'], rotation=45)\n",
        "plt.yticks(tick_marks, ['Normal', 'Fault_BB', 'Fault_SM', 'Fault_RI'])\n",
        "\n",
        "fmt = 'd'\n",
        "thresh = conf_matrix.max() / 2.\n",
        "for i, j in np.ndindex(conf_matrix.shape):\n",
        "    plt.text(j, i, format(conf_matrix[i, j], fmt),\n",
        "             ha=\"center\", va=\"center\",\n",
        "             color=\"white\" if conf_matrix[i, j] > thresh else \"black\")\n",
        "\n",
        "plt.ylabel('True label')\n",
        "plt.xlabel('Predicted label')\n",
        "plt.tight_layout()\n",
        "plt.show()"
      ],
      "metadata": {
        "colab": {
          "base_uri": "https://localhost:8080/"
        },
        "id": "7lwLPBXNUBMA",
        "outputId": "c23e23ec-07b5-428c-a2f5-9e1fe25174dc"
      },
      "execution_count": null,
      "outputs": [
        {
          "output_type": "display_data",
          "data": {
            "text/plain": [
              "<Figure size 800x800 with 2 Axes>"
            ],
            "image/png": "[encoded data removed]"
          },
          "metadata": {}
        }
      ]
    },
    {
      "cell_type": "code",
      "source": [],
      "metadata": {
        "id": "4SgrFy4rUBOh"
      },
      "execution_count": null,
      "outputs": []
    }
  ]
}