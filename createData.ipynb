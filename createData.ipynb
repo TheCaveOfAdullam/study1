{
 "cells": [
  {
   "cell_type": "code",
   "execution_count": 6,
   "id": "0511f965-7a6a-417d-858c-a7db4c16d23c",
   "metadata": {},
   "outputs": [
    {
     "name": "stdout",
     "output_type": "stream",
     "text": [
      "Images saved successfully.\n"
     ]
    }
   ],
   "source": [
    "import os\n",
    "import numpy as np\n",
    "import pandas as pd\n",
    "from scipy.signal import spectrogram\n",
    "import matplotlib.pyplot as plt\n",
    "\n",
    "# 입력 폴더와 출력 폴더 경로 설정\n",
    "input_folder = \"deajeon_data/validation/fault\"\n",
    "output_folder = \"output_folder\"\n",
    "\n",
    "# 출력 폴더가 없는 경우 생성\n",
    "if not os.path.exists(output_folder):\n",
    "    os.makedirs(output_folder)\n",
    "    \n",
    "# 입력 폴더에 있는 모든 CSV 파일 가져오기\n",
    "csv_files = [file for file in os.listdir(input_folder) if file.endswith('.csv')]\n",
    "\n",
    "# 샘플링 주파수 설정\n",
    "sampling_freq = 1000  # 샘플링 주파수 (예: 1000 Hz)\n",
    "\n",
    "# 데이터를 세 개의 등분으로 나누기\n",
    "num_segments = 3\n",
    "\n",
    "# 각 CSV 파일에 대해 처리\n",
    "for csv_file in csv_files:\n",
    "    # CSV 파일 경로 설정\n",
    "    csv_file_path = os.path.join(input_folder, csv_file)\n",
    "    \n",
    "    # CSV 파일 불러오기\n",
    "    data = pd.read_csv(csv_file_path)\n",
    "\n",
    "    # 주파수 데이터 추출\n",
    "    frequencies = data['y'].values\n",
    "    \n",
    "    # 세그먼트 길이 계산\n",
    "    segment_length = len(frequencies) // num_segments\n",
    "\n",
    "    # 각 세그먼트에 대한 스펙트로그램 계산 및 시각화\n",
    "    for i in range(num_segments):\n",
    "        start_idx = i * segment_length\n",
    "        end_idx = (i + 1) * segment_length\n",
    "\n",
    "        # STFT 계산\n",
    "        window_size = 250  # 변경하고자 하는 윈도우 크기\n",
    "        segment_freq = frequencies[start_idx:end_idx]\n",
    "        f, t, Sxx = spectrogram(segment_freq, fs=sampling_freq, nperseg=window_size, noverlap=window_size // 2)\n",
    "\n",
    "        # Specify the colormap\n",
    "        custom_cmap = 'magma'  # You can choose any other colormap from Matplotlib's available colormaps\n",
    "        plt.figure(figsize=(7, 5))\n",
    "        plt.pcolormesh(t, f, 10 * np.log10(Sxx), shading='gouraud', cmap=custom_cmap)\n",
    "        plt.ylim(0, 500)  # 주파수 범위 설정 (예: 0 ~ 500 Hz)\n",
    "\n",
    "        # Remove axis labels and ticks\n",
    "        plt.axis('off')\n",
    "\n",
    "        plt.tight_layout()\n",
    "        \n",
    "        # 이미지를 파일로 저장\n",
    "        output_file_name = f\"{os.path.splitext(csv_file)[0]}_segment_{i+1}.png\"\n",
    "        output_file_path = os.path.join(output_folder, output_file_name)\n",
    "        plt.savefig(output_file_path, bbox_inches='tight', pad_inches=0)\n",
    "        plt.close()  # 이미지를 파일로 저장하고 메모리에서 제거\n",
    "\n",
    "print(\"Images saved successfully.\")"
   ]
  },
  {
   "cell_type": "code",
   "execution_count": null,
   "id": "96d392de-5190-4d8b-869f-1ef8f7ed6ace",
   "metadata": {},
   "outputs": [],
   "source": []
  }
 ],
 "metadata": {
  "kernelspec": {
   "display_name": "Python 3 (ipykernel)",
   "language": "python",
   "name": "python3"
  },
  "language_info": {
   "codemirror_mode": {
    "name": "ipython",
    "version": 3
   },
   "file_extension": ".py",
   "mimetype": "text/x-python",
   "name": "python",
   "nbconvert_exporter": "python",
   "pygments_lexer": "ipython3",
   "version": "3.11.7"
  }
 },
 "nbformat": 4,
 "nbformat_minor": 5
}
