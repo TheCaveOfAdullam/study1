{
 "cells": [
  {
   "cell_type": "code",
   "execution_count": 1,
   "id": "353d95ae-e753-47fa-b6f1-690487a57ed5",
   "metadata": {},
   "outputs": [
    {
     "ename": "ValueError",
     "evalue": "Unknown window type.",
     "output_type": "error",
     "traceback": [
      "\u001b[1;31m---------------------------------------------------------------------------\u001b[0m",
      "\u001b[1;31mValueError\u001b[0m                                Traceback (most recent call last)",
      "File \u001b[1;32m~\\anaconda3\\Lib\\site-packages\\scipy\\signal\\windows\\_windows.py:2344\u001b[0m, in \u001b[0;36mget_window\u001b[1;34m(window, Nx, fftbins)\u001b[0m\n\u001b[0;32m   2343\u001b[0m \u001b[38;5;28;01mtry\u001b[39;00m:\n\u001b[1;32m-> 2344\u001b[0m     beta \u001b[38;5;241m=\u001b[39m \u001b[38;5;28mfloat\u001b[39m(window)\n\u001b[0;32m   2345\u001b[0m \u001b[38;5;28;01mexcept\u001b[39;00m (\u001b[38;5;167;01mTypeError\u001b[39;00m, \u001b[38;5;167;01mValueError\u001b[39;00m) \u001b[38;5;28;01mas\u001b[39;00m e:\n",
      "\u001b[1;31mValueError\u001b[0m: could not convert string to float: 'hanning'",
      "\nDuring handling of the above exception, another exception occurred:\n",
      "\u001b[1;31mKeyError\u001b[0m                                  Traceback (most recent call last)",
      "File \u001b[1;32m~\\anaconda3\\Lib\\site-packages\\scipy\\signal\\windows\\_windows.py:2362\u001b[0m, in \u001b[0;36mget_window\u001b[1;34m(window, Nx, fftbins)\u001b[0m\n\u001b[0;32m   2361\u001b[0m \u001b[38;5;28;01mtry\u001b[39;00m:\n\u001b[1;32m-> 2362\u001b[0m     winfunc \u001b[38;5;241m=\u001b[39m _win_equiv[winstr]\n\u001b[0;32m   2363\u001b[0m \u001b[38;5;28;01mexcept\u001b[39;00m \u001b[38;5;167;01mKeyError\u001b[39;00m \u001b[38;5;28;01mas\u001b[39;00m e:\n",
      "\u001b[1;31mKeyError\u001b[0m: 'hanning'",
      "\nThe above exception was the direct cause of the following exception:\n",
      "\u001b[1;31mValueError\u001b[0m                                Traceback (most recent call last)",
      "Cell \u001b[1;32mIn[1], line 17\u001b[0m\n\u001b[0;32m     14\u001b[0m fft_result \u001b[38;5;241m=\u001b[39m fft(signal)\n\u001b[0;32m     16\u001b[0m \u001b[38;5;66;03m# 윈도우 함수 적용\u001b[39;00m\n\u001b[1;32m---> 17\u001b[0m window \u001b[38;5;241m=\u001b[39m get_window(\u001b[38;5;124m'\u001b[39m\u001b[38;5;124mhanning\u001b[39m\u001b[38;5;124m'\u001b[39m, \u001b[38;5;28mlen\u001b[39m(signal))\n\u001b[0;32m     18\u001b[0m windowed_signal \u001b[38;5;241m=\u001b[39m signal \u001b[38;5;241m*\u001b[39m window\n\u001b[0;32m     20\u001b[0m \u001b[38;5;66;03m# 주파수 밴드 정의\u001b[39;00m\n",
      "File \u001b[1;32m~\\anaconda3\\Lib\\site-packages\\scipy\\signal\\windows\\_windows.py:2364\u001b[0m, in \u001b[0;36mget_window\u001b[1;34m(window, Nx, fftbins)\u001b[0m\n\u001b[0;32m   2362\u001b[0m     winfunc \u001b[38;5;241m=\u001b[39m _win_equiv[winstr]\n\u001b[0;32m   2363\u001b[0m \u001b[38;5;28;01mexcept\u001b[39;00m \u001b[38;5;167;01mKeyError\u001b[39;00m \u001b[38;5;28;01mas\u001b[39;00m e:\n\u001b[1;32m-> 2364\u001b[0m     \u001b[38;5;28;01mraise\u001b[39;00m \u001b[38;5;167;01mValueError\u001b[39;00m(\u001b[38;5;124m\"\u001b[39m\u001b[38;5;124mUnknown window type.\u001b[39m\u001b[38;5;124m\"\u001b[39m) \u001b[38;5;28;01mfrom\u001b[39;00m \u001b[38;5;21;01me\u001b[39;00m\n\u001b[0;32m   2366\u001b[0m \u001b[38;5;28;01mif\u001b[39;00m winfunc \u001b[38;5;129;01mis\u001b[39;00m dpss:\n\u001b[0;32m   2367\u001b[0m     params \u001b[38;5;241m=\u001b[39m (Nx,) \u001b[38;5;241m+\u001b[39m args \u001b[38;5;241m+\u001b[39m (\u001b[38;5;28;01mNone\u001b[39;00m,)\n",
      "\u001b[1;31mValueError\u001b[0m: Unknown window type."
     ]
    }
   ],
   "source": [
    "import numpy as np\n",
    "from scipy.fft import fft\n",
    "from scipy.signal import get_window\n",
    "import matplotlib.pyplot as plt\n",
    "\n",
    "# 주파수 데이터 생성 (임의의 예시)\n",
    "fs = 1000  # 샘플링 주파수\n",
    "t = np.arange(0, 1, 1/fs)  # 1초 동안의 시간 범위\n",
    "f1 = 50  # 주파수 50Hz\n",
    "f2 = 120  # 주파수 120Hz\n",
    "signal = 0.5 * np.sin(2*np.pi*f1*t) + 0.3 * np.sin(2*np.pi*f2*t)\n",
    "\n",
    "# FFT를 사용하여 주파수 영역 데이터 얻기\n",
    "fft_result = fft(signal)\n",
    "\n",
    "# 윈도우 함수 적용\n",
    "window = get_window('hanning', len(signal))\n",
    "windowed_signal = signal * window\n",
    "\n",
    "# 주파수 밴드 정의\n",
    "freq_bands = [(0, 30), (30, 70), (70, 150)]  # 주파수 밴드 (예시)\n",
    "\n",
    "# 각 밴드에서 주파수 성분 선택 및 특징 추출\n",
    "for band in freq_bands:\n",
    "    band_signal = fft_result[(band[0] < fs) & (fs < band[1])]\n",
    "    # 시간 영역 특징 추출 (예시로써 신호의 에너지 계산)\n",
    "    energy = np.sum(np.abs(band_signal)**2)\n",
    "    print(f\"Energy in band {band}: {energy}\")\n",
    "\n",
    "# 결과 시각화\n",
    "plt.figure()\n",
    "plt.plot(t, signal, label='Original Signal')\n",
    "plt.plot(t, windowed_signal, label='Windowed Signal')\n",
    "plt.xlabel('Time [s]')\n",
    "plt.ylabel('Amplitude')\n",
    "plt.title('Original vs. Windowed Signal')\n",
    "plt.legend()\n",
    "plt.grid(True)\n",
    "plt.show()"
   ]
  },
  {
   "cell_type": "code",
   "execution_count": null,
   "id": "17cc5f16-fb49-433d-94c9-3ce7d84b6079",
   "metadata": {},
   "outputs": [],
   "source": []
  }
 ],
 "metadata": {
  "kernelspec": {
   "display_name": "Python 3 (ipykernel)",
   "language": "python",
   "name": "python3"
  },
  "language_info": {
   "codemirror_mode": {
    "name": "ipython",
    "version": 3
   },
   "file_extension": ".py",
   "mimetype": "text/x-python",
   "name": "python",
   "nbconvert_exporter": "python",
   "pygments_lexer": "ipython3",
   "version": "3.11.7"
  }
 },
 "nbformat": 4,
 "nbformat_minor": 5
}
