{
 "cells": [
  {
   "cell_type": "markdown",
   "id": "feceebb1-cd71-4742-b96d-1f5036b7ecae",
   "metadata": {},
   "source": [
    "1. 음주 여부에 따라 건강검진 수치 차이가 있을까?\n",
    "2. 신장과 허리둘레의 크기는 체중과 상관관계가 있을까>?\n",
    "-분석을 통해 가설을 검정해 봅니다.\n",
    "\n",
    "3. 라이브러리 로드"
   ]
  },
  {
   "cell_type": "code",
   "execution_count": 1,
   "id": "75da0d64-9c60-4327-8672-d0d1dcad78fa",
   "metadata": {},
   "outputs": [],
   "source": [
    "# 분석에 사용할 pandas, 수치계산에 사용할 numpy, 시각화에 사용할 seaborn을 불러옵니다.\n",
    "# 또, 구 버전의 주피터 노트불에서는 %matplotlib inline 설정을 되어야 노트북 안에서 그래프를 시각화 합니다.\n",
    "\n",
    "import pandas as pd\n",
    "import numpy as np\n",
    "import seaborn as sns\n",
    "import matplotlib.pyplot as plt\n",
    "\n",
    "%matplotlib inline"
   ]
  },
  {
   "cell_type": "code",
   "execution_count": 2,
   "id": "65ce3a87-bc49-419c-8303-c55a7df5b20b",
   "metadata": {},
   "outputs": [],
   "source": [
    "# Google Colab 사용 시 아래 주석을 풀고 폰트설정을 합니다.\n",
    "# 로컬 아나콘다 사용 시에는 그래도 주석처리를 해놓으시면 됩니다.\n",
    "# 나눔고딕 설치\n",
    "# 이 코드를 사용시 아래에 있는 폰트를 로드할 경우 colab에서는 오류가 발생하니\n",
    "# 아래에 있는 폰트 설정은 꼭 주석처리를 해주세요.\n",
    "# !apt -qq -y install fonts-nanum > /dev/null\n",
    "\n",
    "# import matplotlib.font_manager as fm \n",
    "\n",
    "# fontpath = '/usr/share/fonts/truetype/nanum/NanumBarunGothic.ttf'\n",
    "# font = fm.FontProperties(fname=fontpath, size=9)\n",
    "# fm._rebuild()\n",
    "\n",
    "#Colab 의 한글 폰트 설정\n",
    "# pit,rc('font', family='NanumGothic')\n",
    "# 마이너스 폰트 깨지는 문제에 대한 대처\n",
    "# plt.rc(\"axes\", unicode_minus=False)"
   ]
  },
  {
   "cell_type": "code",
   "execution_count": 3,
   "id": "6681c436-09aa-495e-b98d-f902ba5463f0",
   "metadata": {},
   "outputs": [],
   "source": [
    "# 한글 폰트를 설정해 주지 않으면 그래프 상에서 한글이 깨져보입니다. \n",
    "# 한굴이 출력될 수 있도록 폰트 설정을 해줍니다.\n",
    "# 운영체재별 설정을 위해 로드 합니다.\n",
    "import os\n",
    "\n",
    "# 윈도우, 맥 외의 os는 별도로 설정해 주세요.\n",
    "if os.name == 'posix':\n",
    "    plt.rc(\"font\", familu=\"AppleGothic\")\n",
    "else:\n",
    "    plt.rc(\"font\", family=\"Malgun Gothic\")\n",
    "# 마이너스 폰트 깨지는 문제에 대한 대처\n",
    "plt.rc(\"axes\", unicode_minus=False)"
   ]
  },
  {
   "cell_type": "code",
   "execution_count": 4,
   "id": "fb02cf85-a53f-4cb8-a3ca-3fbaadb948e5",
   "metadata": {},
   "outputs": [],
   "source": [
    "# 레티나 설정을 해주면 글씨가 좀 더 선명하게 보입니다.\n",
    "# 폰트의 주변이 흐릿하게 보이는 것을 방지합니다.\n",
    "%config InlineBackend.figure_format = 'retina'"
   ]
  },
  {
   "cell_type": "markdown",
   "id": "287e6c2f-d786-4372-b2ae-bc18563db770",
   "metadata": {},
   "source": [
    "데이터 불러오기\n",
    "-국민건강보험."
   ]
  },
  {
   "cell_type": "code",
   "execution_count": 5,
   "id": "d631ea63-4840-443d-a843-901d736a266d",
   "metadata": {},
   "outputs": [
    {
     "data": {
      "text/plain": [
       "(1000000, 34)"
      ]
     },
     "execution_count": 5,
     "metadata": {},
     "output_type": "execute_result"
    }
   ],
   "source": [
    "# 다운로드 받은 파일을 판다수의 read_csv를 통해 읽어옵니다.\n",
    "# 파일을 읽어온 후 shape 로 행과 열의 수를 출력합니다.\n",
    "df = pd.read_csv(\"data/NHIS_OPEN_GJ_2017.csv\", encoding=\"cp949\")\n",
    "df.shape"
   ]
  },
  {
   "cell_type": "markdown",
   "id": "02f9ba94-9e1d-4989-85e0-1040b8707e37",
   "metadata": {},
   "source": [
    "5.1 데이터 미리보기"
   ]
  },
  {
   "cell_type": "code",
   "execution_count": 6,
   "id": "5feb95c9-48c1-4868-ad1d-2becf632343b",
   "metadata": {},
   "outputs": [
    {
     "data": {
      "text/html": [
       "<div>\n",
       "<style scoped>\n",
       "    .dataframe tbody tr th:only-of-type {\n",
       "        vertical-align: middle;\n",
       "    }\n",
       "\n",
       "    .dataframe tbody tr th {\n",
       "        vertical-align: top;\n",
       "    }\n",
       "\n",
       "    .dataframe thead th {\n",
       "        text-align: right;\n",
       "    }\n",
       "</style>\n",
       "<table border=\"1\" class=\"dataframe\">\n",
       "  <thead>\n",
       "    <tr style=\"text-align: right;\">\n",
       "      <th></th>\n",
       "      <th>기준년도</th>\n",
       "      <th>가입자일련번호</th>\n",
       "      <th>성별코드</th>\n",
       "      <th>연령대코드(5세단위)</th>\n",
       "      <th>시도코드</th>\n",
       "      <th>신장(5Cm단위)</th>\n",
       "      <th>체중(5Kg단위)</th>\n",
       "      <th>허리둘레</th>\n",
       "      <th>시력(좌)</th>\n",
       "      <th>시력(우)</th>\n",
       "      <th>...</th>\n",
       "      <th>감마지티피</th>\n",
       "      <th>흡연상태</th>\n",
       "      <th>음주여부</th>\n",
       "      <th>구강검진수검여부</th>\n",
       "      <th>치아우식증유무</th>\n",
       "      <th>결손치유무</th>\n",
       "      <th>치아마모증유무</th>\n",
       "      <th>제3대구치(사랑니)이상</th>\n",
       "      <th>치석</th>\n",
       "      <th>데이터공개일자</th>\n",
       "    </tr>\n",
       "  </thead>\n",
       "  <tbody>\n",
       "    <tr>\n",
       "      <th>0</th>\n",
       "      <td>2017</td>\n",
       "      <td>1</td>\n",
       "      <td>1</td>\n",
       "      <td>8</td>\n",
       "      <td>43</td>\n",
       "      <td>170</td>\n",
       "      <td>75</td>\n",
       "      <td>90.0</td>\n",
       "      <td>1.0</td>\n",
       "      <td>1.0</td>\n",
       "      <td>...</td>\n",
       "      <td>40.0</td>\n",
       "      <td>1.0</td>\n",
       "      <td>Y</td>\n",
       "      <td>Y</td>\n",
       "      <td>NaN</td>\n",
       "      <td>NaN</td>\n",
       "      <td>NaN</td>\n",
       "      <td>NaN</td>\n",
       "      <td>Y</td>\n",
       "      <td>2018-11-26</td>\n",
       "    </tr>\n",
       "    <tr>\n",
       "      <th>1</th>\n",
       "      <td>2017</td>\n",
       "      <td>2</td>\n",
       "      <td>1</td>\n",
       "      <td>7</td>\n",
       "      <td>11</td>\n",
       "      <td>180</td>\n",
       "      <td>80</td>\n",
       "      <td>89.0</td>\n",
       "      <td>0.9</td>\n",
       "      <td>1.2</td>\n",
       "      <td>...</td>\n",
       "      <td>27.0</td>\n",
       "      <td>3.0</td>\n",
       "      <td>N</td>\n",
       "      <td>Y</td>\n",
       "      <td>NaN</td>\n",
       "      <td>NaN</td>\n",
       "      <td>NaN</td>\n",
       "      <td>NaN</td>\n",
       "      <td>NaN</td>\n",
       "      <td>2018-11-26</td>\n",
       "    </tr>\n",
       "    <tr>\n",
       "      <th>2</th>\n",
       "      <td>2017</td>\n",
       "      <td>3</td>\n",
       "      <td>1</td>\n",
       "      <td>9</td>\n",
       "      <td>41</td>\n",
       "      <td>165</td>\n",
       "      <td>75</td>\n",
       "      <td>91.0</td>\n",
       "      <td>1.2</td>\n",
       "      <td>1.5</td>\n",
       "      <td>...</td>\n",
       "      <td>68.0</td>\n",
       "      <td>1.0</td>\n",
       "      <td>N</td>\n",
       "      <td>N</td>\n",
       "      <td>NaN</td>\n",
       "      <td>NaN</td>\n",
       "      <td>NaN</td>\n",
       "      <td>NaN</td>\n",
       "      <td>NaN</td>\n",
       "      <td>2018-11-26</td>\n",
       "    </tr>\n",
       "    <tr>\n",
       "      <th>3</th>\n",
       "      <td>2017</td>\n",
       "      <td>4</td>\n",
       "      <td>1</td>\n",
       "      <td>11</td>\n",
       "      <td>48</td>\n",
       "      <td>175</td>\n",
       "      <td>80</td>\n",
       "      <td>91.0</td>\n",
       "      <td>1.5</td>\n",
       "      <td>1.2</td>\n",
       "      <td>...</td>\n",
       "      <td>18.0</td>\n",
       "      <td>1.0</td>\n",
       "      <td>N</td>\n",
       "      <td>Y</td>\n",
       "      <td>NaN</td>\n",
       "      <td>NaN</td>\n",
       "      <td>NaN</td>\n",
       "      <td>NaN</td>\n",
       "      <td>N</td>\n",
       "      <td>2018-11-26</td>\n",
       "    </tr>\n",
       "    <tr>\n",
       "      <th>4</th>\n",
       "      <td>2017</td>\n",
       "      <td>5</td>\n",
       "      <td>1</td>\n",
       "      <td>11</td>\n",
       "      <td>30</td>\n",
       "      <td>165</td>\n",
       "      <td>60</td>\n",
       "      <td>80.0</td>\n",
       "      <td>1.0</td>\n",
       "      <td>1.2</td>\n",
       "      <td>...</td>\n",
       "      <td>25.0</td>\n",
       "      <td>1.0</td>\n",
       "      <td>N</td>\n",
       "      <td>Y</td>\n",
       "      <td>NaN</td>\n",
       "      <td>NaN</td>\n",
       "      <td>NaN</td>\n",
       "      <td>NaN</td>\n",
       "      <td>N</td>\n",
       "      <td>2018-11-26</td>\n",
       "    </tr>\n",
       "  </tbody>\n",
       "</table>\n",
       "<p>5 rows × 34 columns</p>\n",
       "</div>"
      ],
      "text/plain": [
       "   기준년도  가입자일련번호  성별코드  연령대코드(5세단위)  시도코드  신장(5Cm단위)  체중(5Kg단위)  허리둘레  시력(좌)  \\\n",
       "0  2017        1     1            8    43        170         75  90.0    1.0   \n",
       "1  2017        2     1            7    11        180         80  89.0    0.9   \n",
       "2  2017        3     1            9    41        165         75  91.0    1.2   \n",
       "3  2017        4     1           11    48        175         80  91.0    1.5   \n",
       "4  2017        5     1           11    30        165         60  80.0    1.0   \n",
       "\n",
       "   시력(우)  ...  감마지티피  흡연상태  음주여부  구강검진수검여부  치아우식증유무  결손치유무  치아마모증유무  \\\n",
       "0    1.0  ...   40.0   1.0     Y         Y      NaN    NaN      NaN   \n",
       "1    1.2  ...   27.0   3.0     N         Y      NaN    NaN      NaN   \n",
       "2    1.5  ...   68.0   1.0     N         N      NaN    NaN      NaN   \n",
       "3    1.2  ...   18.0   1.0     N         Y      NaN    NaN      NaN   \n",
       "4    1.2  ...   25.0   1.0     N         Y      NaN    NaN      NaN   \n",
       "\n",
       "   제3대구치(사랑니)이상   치석     데이터공개일자  \n",
       "0           NaN    Y  2018-11-26  \n",
       "1           NaN  NaN  2018-11-26  \n",
       "2           NaN  NaN  2018-11-26  \n",
       "3           NaN    N  2018-11-26  \n",
       "4           NaN    N  2018-11-26  \n",
       "\n",
       "[5 rows x 34 columns]"
      ]
     },
     "execution_count": 6,
     "metadata": {},
     "output_type": "execute_result"
    }
   ],
   "source": [
    "# sample, head, tail을 통해 데이터를 미리보기 합니다.\n",
    "df.head()"
   ]
  },
  {
   "cell_type": "code",
   "execution_count": 7,
   "id": "5a866315-100a-406c-bc50-4fc9723fb7a2",
   "metadata": {},
   "outputs": [
    {
     "data": {
      "text/html": [
       "<div>\n",
       "<style scoped>\n",
       "    .dataframe tbody tr th:only-of-type {\n",
       "        vertical-align: middle;\n",
       "    }\n",
       "\n",
       "    .dataframe tbody tr th {\n",
       "        vertical-align: top;\n",
       "    }\n",
       "\n",
       "    .dataframe thead th {\n",
       "        text-align: right;\n",
       "    }\n",
       "</style>\n",
       "<table border=\"1\" class=\"dataframe\">\n",
       "  <thead>\n",
       "    <tr style=\"text-align: right;\">\n",
       "      <th></th>\n",
       "      <th>기준년도</th>\n",
       "      <th>가입자일련번호</th>\n",
       "      <th>성별코드</th>\n",
       "      <th>연령대코드(5세단위)</th>\n",
       "      <th>시도코드</th>\n",
       "      <th>신장(5Cm단위)</th>\n",
       "      <th>체중(5Kg단위)</th>\n",
       "      <th>허리둘레</th>\n",
       "      <th>시력(좌)</th>\n",
       "      <th>시력(우)</th>\n",
       "      <th>...</th>\n",
       "      <th>감마지티피</th>\n",
       "      <th>흡연상태</th>\n",
       "      <th>음주여부</th>\n",
       "      <th>구강검진수검여부</th>\n",
       "      <th>치아우식증유무</th>\n",
       "      <th>결손치유무</th>\n",
       "      <th>치아마모증유무</th>\n",
       "      <th>제3대구치(사랑니)이상</th>\n",
       "      <th>치석</th>\n",
       "      <th>데이터공개일자</th>\n",
       "    </tr>\n",
       "  </thead>\n",
       "  <tbody>\n",
       "    <tr>\n",
       "      <th>999995</th>\n",
       "      <td>2017</td>\n",
       "      <td>999996</td>\n",
       "      <td>1</td>\n",
       "      <td>10</td>\n",
       "      <td>48</td>\n",
       "      <td>175</td>\n",
       "      <td>80</td>\n",
       "      <td>92.1</td>\n",
       "      <td>1.5</td>\n",
       "      <td>1.5</td>\n",
       "      <td>...</td>\n",
       "      <td>27.0</td>\n",
       "      <td>1.0</td>\n",
       "      <td>N</td>\n",
       "      <td>N</td>\n",
       "      <td>NaN</td>\n",
       "      <td>NaN</td>\n",
       "      <td>NaN</td>\n",
       "      <td>NaN</td>\n",
       "      <td>NaN</td>\n",
       "      <td>2018-11-26</td>\n",
       "    </tr>\n",
       "    <tr>\n",
       "      <th>999996</th>\n",
       "      <td>2017</td>\n",
       "      <td>999997</td>\n",
       "      <td>1</td>\n",
       "      <td>8</td>\n",
       "      <td>41</td>\n",
       "      <td>170</td>\n",
       "      <td>75</td>\n",
       "      <td>86.0</td>\n",
       "      <td>1.0</td>\n",
       "      <td>1.5</td>\n",
       "      <td>...</td>\n",
       "      <td>15.0</td>\n",
       "      <td>1.0</td>\n",
       "      <td>N</td>\n",
       "      <td>N</td>\n",
       "      <td>NaN</td>\n",
       "      <td>NaN</td>\n",
       "      <td>NaN</td>\n",
       "      <td>NaN</td>\n",
       "      <td>NaN</td>\n",
       "      <td>2018-11-26</td>\n",
       "    </tr>\n",
       "    <tr>\n",
       "      <th>999997</th>\n",
       "      <td>2017</td>\n",
       "      <td>999998</td>\n",
       "      <td>2</td>\n",
       "      <td>9</td>\n",
       "      <td>26</td>\n",
       "      <td>155</td>\n",
       "      <td>50</td>\n",
       "      <td>68.0</td>\n",
       "      <td>1.0</td>\n",
       "      <td>0.7</td>\n",
       "      <td>...</td>\n",
       "      <td>17.0</td>\n",
       "      <td>3.0</td>\n",
       "      <td>Y</td>\n",
       "      <td>N</td>\n",
       "      <td>NaN</td>\n",
       "      <td>NaN</td>\n",
       "      <td>NaN</td>\n",
       "      <td>NaN</td>\n",
       "      <td>NaN</td>\n",
       "      <td>2018-11-26</td>\n",
       "    </tr>\n",
       "    <tr>\n",
       "      <th>999998</th>\n",
       "      <td>2017</td>\n",
       "      <td>999999</td>\n",
       "      <td>1</td>\n",
       "      <td>6</td>\n",
       "      <td>29</td>\n",
       "      <td>175</td>\n",
       "      <td>60</td>\n",
       "      <td>72.0</td>\n",
       "      <td>1.5</td>\n",
       "      <td>1.0</td>\n",
       "      <td>...</td>\n",
       "      <td>17.0</td>\n",
       "      <td>1.0</td>\n",
       "      <td>N</td>\n",
       "      <td>N</td>\n",
       "      <td>NaN</td>\n",
       "      <td>NaN</td>\n",
       "      <td>NaN</td>\n",
       "      <td>NaN</td>\n",
       "      <td>NaN</td>\n",
       "      <td>2018-11-26</td>\n",
       "    </tr>\n",
       "    <tr>\n",
       "      <th>999999</th>\n",
       "      <td>2017</td>\n",
       "      <td>1000000</td>\n",
       "      <td>1</td>\n",
       "      <td>11</td>\n",
       "      <td>41</td>\n",
       "      <td>160</td>\n",
       "      <td>70</td>\n",
       "      <td>90.5</td>\n",
       "      <td>1.0</td>\n",
       "      <td>1.5</td>\n",
       "      <td>...</td>\n",
       "      <td>36.0</td>\n",
       "      <td>3.0</td>\n",
       "      <td>Y</td>\n",
       "      <td>N</td>\n",
       "      <td>NaN</td>\n",
       "      <td>NaN</td>\n",
       "      <td>NaN</td>\n",
       "      <td>NaN</td>\n",
       "      <td>NaN</td>\n",
       "      <td>2018-11-26</td>\n",
       "    </tr>\n",
       "  </tbody>\n",
       "</table>\n",
       "<p>5 rows × 34 columns</p>\n",
       "</div>"
      ],
      "text/plain": [
       "        기준년도  가입자일련번호  성별코드  연령대코드(5세단위)  시도코드  신장(5Cm단위)  체중(5Kg단위)  허리둘레  \\\n",
       "999995  2017   999996     1           10    48        175         80  92.1   \n",
       "999996  2017   999997     1            8    41        170         75  86.0   \n",
       "999997  2017   999998     2            9    26        155         50  68.0   \n",
       "999998  2017   999999     1            6    29        175         60  72.0   \n",
       "999999  2017  1000000     1           11    41        160         70  90.5   \n",
       "\n",
       "        시력(좌)  시력(우)  ...  감마지티피  흡연상태  음주여부  구강검진수검여부  치아우식증유무  결손치유무  \\\n",
       "999995    1.5    1.5  ...   27.0   1.0     N         N      NaN    NaN   \n",
       "999996    1.0    1.5  ...   15.0   1.0     N         N      NaN    NaN   \n",
       "999997    1.0    0.7  ...   17.0   3.0     Y         N      NaN    NaN   \n",
       "999998    1.5    1.0  ...   17.0   1.0     N         N      NaN    NaN   \n",
       "999999    1.0    1.5  ...   36.0   3.0     Y         N      NaN    NaN   \n",
       "\n",
       "        치아마모증유무  제3대구치(사랑니)이상   치석     데이터공개일자  \n",
       "999995      NaN           NaN  NaN  2018-11-26  \n",
       "999996      NaN           NaN  NaN  2018-11-26  \n",
       "999997      NaN           NaN  NaN  2018-11-26  \n",
       "999998      NaN           NaN  NaN  2018-11-26  \n",
       "999999      NaN           NaN  NaN  2018-11-26  \n",
       "\n",
       "[5 rows x 34 columns]"
      ]
     },
     "execution_count": 7,
     "metadata": {},
     "output_type": "execute_result"
    }
   ],
   "source": [
    "df.tail()"
   ]
  },
  {
   "cell_type": "code",
   "execution_count": 8,
   "id": "14d47992-ca95-47c7-8110-1a2e056bd28c",
   "metadata": {},
   "outputs": [
    {
     "data": {
      "text/html": [
       "<div>\n",
       "<style scoped>\n",
       "    .dataframe tbody tr th:only-of-type {\n",
       "        vertical-align: middle;\n",
       "    }\n",
       "\n",
       "    .dataframe tbody tr th {\n",
       "        vertical-align: top;\n",
       "    }\n",
       "\n",
       "    .dataframe thead th {\n",
       "        text-align: right;\n",
       "    }\n",
       "</style>\n",
       "<table border=\"1\" class=\"dataframe\">\n",
       "  <thead>\n",
       "    <tr style=\"text-align: right;\">\n",
       "      <th></th>\n",
       "      <th>기준년도</th>\n",
       "      <th>가입자일련번호</th>\n",
       "      <th>성별코드</th>\n",
       "      <th>연령대코드(5세단위)</th>\n",
       "      <th>시도코드</th>\n",
       "      <th>신장(5Cm단위)</th>\n",
       "      <th>체중(5Kg단위)</th>\n",
       "      <th>허리둘레</th>\n",
       "      <th>시력(좌)</th>\n",
       "      <th>시력(우)</th>\n",
       "      <th>...</th>\n",
       "      <th>감마지티피</th>\n",
       "      <th>흡연상태</th>\n",
       "      <th>음주여부</th>\n",
       "      <th>구강검진수검여부</th>\n",
       "      <th>치아우식증유무</th>\n",
       "      <th>결손치유무</th>\n",
       "      <th>치아마모증유무</th>\n",
       "      <th>제3대구치(사랑니)이상</th>\n",
       "      <th>치석</th>\n",
       "      <th>데이터공개일자</th>\n",
       "    </tr>\n",
       "  </thead>\n",
       "  <tbody>\n",
       "    <tr>\n",
       "      <th>262079</th>\n",
       "      <td>2017</td>\n",
       "      <td>262080</td>\n",
       "      <td>1</td>\n",
       "      <td>10</td>\n",
       "      <td>27</td>\n",
       "      <td>165</td>\n",
       "      <td>65</td>\n",
       "      <td>81.0</td>\n",
       "      <td>1.0</td>\n",
       "      <td>1.0</td>\n",
       "      <td>...</td>\n",
       "      <td>31.0</td>\n",
       "      <td>1.0</td>\n",
       "      <td>N</td>\n",
       "      <td>N</td>\n",
       "      <td>NaN</td>\n",
       "      <td>NaN</td>\n",
       "      <td>NaN</td>\n",
       "      <td>NaN</td>\n",
       "      <td>NaN</td>\n",
       "      <td>2018-11-26</td>\n",
       "    </tr>\n",
       "  </tbody>\n",
       "</table>\n",
       "<p>1 rows × 34 columns</p>\n",
       "</div>"
      ],
      "text/plain": [
       "        기준년도  가입자일련번호  성별코드  연령대코드(5세단위)  시도코드  신장(5Cm단위)  체중(5Kg단위)  허리둘레  \\\n",
       "262079  2017   262080     1           10    27        165         65  81.0   \n",
       "\n",
       "        시력(좌)  시력(우)  ...  감마지티피  흡연상태  음주여부  구강검진수검여부  치아우식증유무  결손치유무  \\\n",
       "262079    1.0    1.0  ...   31.0   1.0     N         N      NaN    NaN   \n",
       "\n",
       "        치아마모증유무  제3대구치(사랑니)이상   치석     데이터공개일자  \n",
       "262079      NaN           NaN  NaN  2018-11-26  \n",
       "\n",
       "[1 rows x 34 columns]"
      ]
     },
     "execution_count": 8,
     "metadata": {},
     "output_type": "execute_result"
    }
   ],
   "source": [
    "df.sample()"
   ]
  },
  {
   "cell_type": "markdown",
   "id": "d26455a5-a6ad-4a20-ae5c-eb6bfab27d9f",
   "metadata": {},
   "source": [
    "6 기본정보 보기"
   ]
  },
  {
   "cell_type": "code",
   "execution_count": 9,
   "id": "2a4e4594-5f74-41f7-a4f5-d3b587fc4674",
   "metadata": {},
   "outputs": [
    {
     "name": "stdout",
     "output_type": "stream",
     "text": [
      "<class 'pandas.core.frame.DataFrame'>\n",
      "RangeIndex: 1000000 entries, 0 to 999999\n",
      "Data columns (total 34 columns):\n",
      " #   Column        Non-Null Count    Dtype  \n",
      "---  ------        --------------    -----  \n",
      " 0   기준년도          1000000 non-null  int64  \n",
      " 1   가입자일련번호       1000000 non-null  int64  \n",
      " 2   성별코드          1000000 non-null  int64  \n",
      " 3   연령대코드(5세단위)   1000000 non-null  int64  \n",
      " 4   시도코드          1000000 non-null  int64  \n",
      " 5   신장(5Cm단위)     1000000 non-null  int64  \n",
      " 6   체중(5Kg단위)     1000000 non-null  int64  \n",
      " 7   허리둘레          999734 non-null   float64\n",
      " 8   시력(좌)         999817 non-null   float64\n",
      " 9   시력(우)         999811 non-null   float64\n",
      " 10  청력(좌)         999842 non-null   float64\n",
      " 11  청력(우)         999844 non-null   float64\n",
      " 12  수축기혈압         999981 non-null   float64\n",
      " 13  이완기혈압         999982 non-null   float64\n",
      " 14  식전혈당(공복혈당)    999958 non-null   float64\n",
      " 15  총콜레스테롤        999957 non-null   float64\n",
      " 16  트리글리세라이드      999955 non-null   float64\n",
      " 17  HDL콜레스테롤      999956 non-null   float64\n",
      " 18  LDL콜레스테롤      997088 non-null   float64\n",
      " 19  혈색소           999948 non-null   float64\n",
      " 20  요단백           995408 non-null   float64\n",
      " 21  혈청크레아티닌       999957 non-null   float64\n",
      " 22  (혈청지오티)AST    999959 non-null   float64\n",
      " 23  (혈청지오티)ALT    999958 non-null   float64\n",
      " 24  감마지티피         999958 non-null   float64\n",
      " 25  흡연상태          999856 non-null   float64\n",
      " 26  음주여부          999464 non-null   object \n",
      " 27  구강검진수검여부      1000000 non-null  object \n",
      " 28  치아우식증유무       0 non-null        float64\n",
      " 29  결손치유무         0 non-null        float64\n",
      " 30  치아마모증유무       0 non-null        float64\n",
      " 31  제3대구치(사랑니)이상  0 non-null        float64\n",
      " 32  치석            378578 non-null   object \n",
      " 33  데이터공개일자       1000000 non-null  object \n",
      "dtypes: float64(23), int64(7), object(4)\n",
      "memory usage: 259.4+ MB\n"
     ]
    }
   ],
   "source": [
    "# info를 통해 데이터의 크기, 형식, 메모리 사용량 등을 봅니다.\n",
    "df.info()"
   ]
  },
  {
   "cell_type": "code",
   "execution_count": 10,
   "id": "d6028422-42de-40e4-9494-b7858c9adbba",
   "metadata": {},
   "outputs": [
    {
     "data": {
      "text/plain": [
       "Index(['기준년도', '가입자일련번호', '성별코드', '연령대코드(5세단위)', '시도코드', '신장(5Cm단위)',\n",
       "       '체중(5Kg단위)', '허리둘레', '시력(좌)', '시력(우)', '청력(좌)', '청력(우)', '수축기혈압',\n",
       "       '이완기혈압', '식전혈당(공복혈당)', '총콜레스테롤', '트리글리세라이드', 'HDL콜레스테롤', 'LDL콜레스테롤',\n",
       "       '혈색소', '요단백', '혈청크레아티닌', '(혈청지오티)AST', '(혈청지오티)ALT', '감마지티피', '흡연상태',\n",
       "       '음주여부', '구강검진수검여부', '치아우식증유무', '결손치유무', '치아마모증유무', '제3대구치(사랑니)이상', '치석',\n",
       "       '데이터공개일자'],\n",
       "      dtype='object')"
      ]
     },
     "execution_count": 10,
     "metadata": {},
     "output_type": "execute_result"
    }
   ],
   "source": [
    "# 컬럼의 수가 많습니다. 컬럼만 따로 출력합니다.\n",
    "df.columns"
   ]
  },
  {
   "cell_type": "code",
   "execution_count": 11,
   "id": "971c8a5b-d0e7-4cf8-80ca-747344e1b8ea",
   "metadata": {},
   "outputs": [
    {
     "data": {
      "text/plain": [
       "기준년도              int64\n",
       "가입자일련번호           int64\n",
       "성별코드              int64\n",
       "연령대코드(5세단위)       int64\n",
       "시도코드              int64\n",
       "신장(5Cm단위)         int64\n",
       "체중(5Kg단위)         int64\n",
       "허리둘레            float64\n",
       "시력(좌)           float64\n",
       "시력(우)           float64\n",
       "청력(좌)           float64\n",
       "청력(우)           float64\n",
       "수축기혈압           float64\n",
       "이완기혈압           float64\n",
       "식전혈당(공복혈당)      float64\n",
       "총콜레스테롤          float64\n",
       "트리글리세라이드        float64\n",
       "HDL콜레스테롤        float64\n",
       "LDL콜레스테롤        float64\n",
       "혈색소             float64\n",
       "요단백             float64\n",
       "혈청크레아티닌         float64\n",
       "(혈청지오티)AST      float64\n",
       "(혈청지오티)ALT      float64\n",
       "감마지티피           float64\n",
       "흡연상태            float64\n",
       "음주여부             object\n",
       "구강검진수검여부         object\n",
       "치아우식증유무         float64\n",
       "결손치유무           float64\n",
       "치아마모증유무         float64\n",
       "제3대구치(사랑니)이상    float64\n",
       "치석               object\n",
       "데이터공개일자          object\n",
       "dtype: object"
      ]
     },
     "execution_count": 11,
     "metadata": {},
     "output_type": "execute_result"
    }
   ],
   "source": [
    "# dtypes를 통해 데이터 형식만 출력합니다. \n",
    "df.dtypes"
   ]
  },
  {
   "cell_type": "markdown",
   "id": "850b5e61-e0a1-4797-ac18-b9ee35d644fd",
   "metadata": {},
   "source": [
    "7 결측치 보기"
   ]
  },
  {
   "cell_type": "code",
   "execution_count": 12,
   "id": "a7115cd5-a36c-4e8b-b364-b9145ca0eb92",
   "metadata": {},
   "outputs": [
    {
     "data": {
      "text/plain": [
       "기준년도                  0\n",
       "가입자일련번호               0\n",
       "성별코드                  0\n",
       "연령대코드(5세단위)           0\n",
       "시도코드                  0\n",
       "신장(5Cm단위)             0\n",
       "체중(5Kg단위)             0\n",
       "허리둘레                266\n",
       "시력(좌)               183\n",
       "시력(우)               189\n",
       "청력(좌)               158\n",
       "청력(우)               156\n",
       "수축기혈압                19\n",
       "이완기혈압                18\n",
       "식전혈당(공복혈당)           42\n",
       "총콜레스테롤               43\n",
       "트리글리세라이드             45\n",
       "HDL콜레스테롤             44\n",
       "LDL콜레스테롤           2912\n",
       "혈색소                  52\n",
       "요단백                4592\n",
       "혈청크레아티닌              43\n",
       "(혈청지오티)AST           41\n",
       "(혈청지오티)ALT           42\n",
       "감마지티피                42\n",
       "흡연상태                144\n",
       "음주여부                536\n",
       "구강검진수검여부              0\n",
       "치아우식증유무         1000000\n",
       "결손치유무           1000000\n",
       "치아마모증유무         1000000\n",
       "제3대구치(사랑니)이상    1000000\n",
       "치석               621422\n",
       "데이터공개일자               0\n",
       "dtype: int64"
      ]
     },
     "execution_count": 12,
     "metadata": {},
     "output_type": "execute_result"
    }
   ],
   "source": [
    "# isnull 을 통해 결측치를 bool 값으로 표시하고 sum을 하면 컬럼마다의 결측치 수르 세어줍니다.\n",
    "df.isnull().sum()"
   ]
  },
  {
   "cell_type": "code",
   "execution_count": 13,
   "id": "dc231530-db68-4429-8927-641def91da6b",
   "metadata": {},
   "outputs": [
    {
     "data": {
      "text/plain": [
       "기준년도                  0\n",
       "가입자일련번호               0\n",
       "성별코드                  0\n",
       "연령대코드(5세단위)           0\n",
       "시도코드                  0\n",
       "신장(5Cm단위)             0\n",
       "체중(5Kg단위)             0\n",
       "허리둘레                266\n",
       "시력(좌)               183\n",
       "시력(우)               189\n",
       "청력(좌)               158\n",
       "청력(우)               156\n",
       "수축기혈압                19\n",
       "이완기혈압                18\n",
       "식전혈당(공복혈당)           42\n",
       "총콜레스테롤               43\n",
       "트리글리세라이드             45\n",
       "HDL콜레스테롤             44\n",
       "LDL콜레스테롤           2912\n",
       "혈색소                  52\n",
       "요단백                4592\n",
       "혈청크레아티닌              43\n",
       "(혈청지오티)AST           41\n",
       "(혈청지오티)ALT           42\n",
       "감마지티피                42\n",
       "흡연상태                144\n",
       "음주여부                536\n",
       "구강검진수검여부              0\n",
       "치아우식증유무         1000000\n",
       "결손치유무           1000000\n",
       "치아마모증유무         1000000\n",
       "제3대구치(사랑니)이상    1000000\n",
       "치석               621422\n",
       "데이터공개일자               0\n",
       "dtype: int64"
      ]
     },
     "execution_count": 13,
     "metadata": {},
     "output_type": "execute_result"
    }
   ],
   "source": [
    "# isna로도 결측치 여부를 확인하고 sum을 토앻 결측치 수를 집계할 수 있습니다.\n",
    "df.isna().sum()"
   ]
  },
  {
   "cell_type": "code",
   "execution_count": 14,
   "id": "9834ca17-e2c2-46e1-9b97-be6418c4beec",
   "metadata": {},
   "outputs": [
    {
     "data": {
      "text/plain": [
       "<Axes: >"
      ]
     },
     "execution_count": 14,
     "metadata": {},
     "output_type": "execute_result"
    },
    {
     "data": {
      "image/png": "[encoded data removed]",
      "text/plain": [
       "<Figure size 1000x900 with 1 Axes>"
      ]
     },
     "metadata": {
      "image/png": {
       "height": 755,
       "width": 945
      }
     },
     "output_type": "display_data"
    }
   ],
   "source": [
    "# 판다스에 내장된 plot을 통해 시각화를 합니다.\n",
    "df.isnull().sum().plot.barh(figsize=(10, 9))"
   ]
  },
  {
   "cell_type": "markdown",
   "id": "7732d332-c6a9-44af-b41b-6d625ef0217e",
   "metadata": {},
   "source": [
    "8 일부 데이터 요약하기"
   ]
  },
  {
   "cell_type": "code",
   "execution_count": 15,
   "id": "5d27018a-1ef9-4b2f-857f-37e527c2781f",
   "metadata": {},
   "outputs": [
    {
     "data": {
      "text/html": [
       "<div>\n",
       "<style scoped>\n",
       "    .dataframe tbody tr th:only-of-type {\n",
       "        vertical-align: middle;\n",
       "    }\n",
       "\n",
       "    .dataframe tbody tr th {\n",
       "        vertical-align: top;\n",
       "    }\n",
       "\n",
       "    .dataframe thead th {\n",
       "        text-align: right;\n",
       "    }\n",
       "</style>\n",
       "<table border=\"1\" class=\"dataframe\">\n",
       "  <thead>\n",
       "    <tr style=\"text-align: right;\">\n",
       "      <th></th>\n",
       "      <th>(혈청지오티)ALT</th>\n",
       "      <th>(혈청지오티)AST</th>\n",
       "    </tr>\n",
       "  </thead>\n",
       "  <tbody>\n",
       "    <tr>\n",
       "      <th>0</th>\n",
       "      <td>35.0</td>\n",
       "      <td>21.0</td>\n",
       "    </tr>\n",
       "    <tr>\n",
       "      <th>1</th>\n",
       "      <td>36.0</td>\n",
       "      <td>20.0</td>\n",
       "    </tr>\n",
       "    <tr>\n",
       "      <th>2</th>\n",
       "      <td>32.0</td>\n",
       "      <td>47.0</td>\n",
       "    </tr>\n",
       "    <tr>\n",
       "      <th>3</th>\n",
       "      <td>34.0</td>\n",
       "      <td>29.0</td>\n",
       "    </tr>\n",
       "    <tr>\n",
       "      <th>4</th>\n",
       "      <td>12.0</td>\n",
       "      <td>19.0</td>\n",
       "    </tr>\n",
       "  </tbody>\n",
       "</table>\n",
       "</div>"
      ],
      "text/plain": [
       "   (혈청지오티)ALT  (혈청지오티)AST\n",
       "0        35.0        21.0\n",
       "1        36.0        20.0\n",
       "2        32.0        47.0\n",
       "3        34.0        29.0\n",
       "4        12.0        19.0"
      ]
     },
     "execution_count": 15,
     "metadata": {},
     "output_type": "execute_result"
    }
   ],
   "source": [
    "# 여러 컬럼을 가져옵니다.\n",
    "# \"(혈청지오티)ALT\", \"(혈청지오티)AST\"를 가져와 미리보기 합니다.\n",
    "df[[\"(혈청지오티)ALT\", \"(혈청지오티)AST\"]].head()"
   ]
  },
  {
   "cell_type": "code",
   "execution_count": 16,
   "id": "ed458b4d-a436-4cdf-b399-0580efe09a68",
   "metadata": {},
   "outputs": [
    {
     "data": {
      "text/html": [
       "<div>\n",
       "<style scoped>\n",
       "    .dataframe tbody tr th:only-of-type {\n",
       "        vertical-align: middle;\n",
       "    }\n",
       "\n",
       "    .dataframe tbody tr th {\n",
       "        vertical-align: top;\n",
       "    }\n",
       "\n",
       "    .dataframe thead th {\n",
       "        text-align: right;\n",
       "    }\n",
       "</style>\n",
       "<table border=\"1\" class=\"dataframe\">\n",
       "  <thead>\n",
       "    <tr style=\"text-align: right;\">\n",
       "      <th></th>\n",
       "      <th>(혈청지오티)ALT</th>\n",
       "      <th>(혈청지오티)AST</th>\n",
       "    </tr>\n",
       "  </thead>\n",
       "  <tbody>\n",
       "    <tr>\n",
       "      <th>count</th>\n",
       "      <td>999958.000000</td>\n",
       "      <td>999959.000000</td>\n",
       "    </tr>\n",
       "    <tr>\n",
       "      <th>mean</th>\n",
       "      <td>25.749509</td>\n",
       "      <td>25.994671</td>\n",
       "    </tr>\n",
       "    <tr>\n",
       "      <th>std</th>\n",
       "      <td>26.294770</td>\n",
       "      <td>23.587469</td>\n",
       "    </tr>\n",
       "    <tr>\n",
       "      <th>min</th>\n",
       "      <td>1.000000</td>\n",
       "      <td>1.000000</td>\n",
       "    </tr>\n",
       "    <tr>\n",
       "      <th>25%</th>\n",
       "      <td>15.000000</td>\n",
       "      <td>19.000000</td>\n",
       "    </tr>\n",
       "    <tr>\n",
       "      <th>50%</th>\n",
       "      <td>20.000000</td>\n",
       "      <td>23.000000</td>\n",
       "    </tr>\n",
       "    <tr>\n",
       "      <th>75%</th>\n",
       "      <td>29.000000</td>\n",
       "      <td>28.000000</td>\n",
       "    </tr>\n",
       "    <tr>\n",
       "      <th>max</th>\n",
       "      <td>7210.000000</td>\n",
       "      <td>9999.000000</td>\n",
       "    </tr>\n",
       "  </tbody>\n",
       "</table>\n",
       "</div>"
      ],
      "text/plain": [
       "          (혈청지오티)ALT     (혈청지오티)AST\n",
       "count  999958.000000  999959.000000\n",
       "mean       25.749509      25.994671\n",
       "std        26.294770      23.587469\n",
       "min         1.000000       1.000000\n",
       "25%        15.000000      19.000000\n",
       "50%        20.000000      23.000000\n",
       "75%        29.000000      28.000000\n",
       "max      7210.000000    9999.000000"
      ]
     },
     "execution_count": 16,
     "metadata": {},
     "output_type": "execute_result"
    }
   ],
   "source": [
    "# \"(혈청지오티)ALT\", \"(혈청지오티)AST\" 를 용약합니다.\n",
    "df[[\"(혈청지오티)ALT\", \"(혈청지오티)AST\"]].describe()"
   ]
  },
  {
   "cell_type": "markdown",
   "id": "f14c1740-ec9e-412d-946b-e38d844e79b2",
   "metadata": {},
   "source": [
    "9 value_counts 로 값 집계하기"
   ]
  },
  {
   "cell_type": "code",
   "execution_count": 17,
   "id": "01e83b95-d42f-4587-a954-d83969a424ad",
   "metadata": {},
   "outputs": [
    {
     "data": {
      "text/plain": [
       "성별코드\n",
       "1    530410\n",
       "2    469590\n",
       "Name: count, dtype: int64"
      ]
     },
     "execution_count": 17,
     "metadata": {},
     "output_type": "execute_result"
    }
   ],
   "source": [
    "# value_counts 를 통해 성별코드로 그룹화 하고 갯수를 집계합니다.\n",
    "df[\"성별코드\"].value_counts()"
   ]
  },
  {
   "cell_type": "code",
   "execution_count": 18,
   "id": "b4a26848-9bdc-40ca-9aa3-95c8255731a7",
   "metadata": {},
   "outputs": [
    {
     "data": {
      "text/plain": [
       "흡연상태\n",
       "1.0    607942\n",
       "3.0    215702\n",
       "2.0    176212\n",
       "Name: count, dtype: int64"
      ]
     },
     "execution_count": 18,
     "metadata": {},
     "output_type": "execute_result"
    }
   ],
   "source": [
    "# value_counts를 통해 흡연상태롤 그룹화 하고 갯수를 집계합니다.\n",
    "df[\"흡연상태\"].value_counts()"
   ]
  },
  {
   "cell_type": "markdown",
   "id": "baf8faaf-df45-430d-ab70-b9b7bb6967d7",
   "metadata": {},
   "source": [
    "10 groupby와 ,pibot_table 사용하기"
   ]
  },
  {
   "cell_type": "markdown",
   "id": "64762caf-9697-463b-aa26-6038c1bcdec8",
   "metadata": {},
   "source": [
    "10.1 groupby"
   ]
  },
  {
   "cell_type": "code",
   "execution_count": 19,
   "id": "a58a3d4b-a2fa-4998-a916-a855ca216e48",
   "metadata": {},
   "outputs": [
    {
     "data": {
      "text/plain": [
       "성별코드\n",
       "1    530410\n",
       "2    469590\n",
       "Name: 가입자일련번호, dtype: int64"
      ]
     },
     "execution_count": 19,
     "metadata": {},
     "output_type": "execute_result"
    }
   ],
   "source": [
    "# groupby를 통해 데이터를 그룹화 합니다.\n",
    "# 성별코드로 그룹화 한 데이터를 세어 봅니다.\n",
    "df.groupby([\"성별코드\"])[\"가입자일련번호\"].count()"
   ]
  },
  {
   "cell_type": "code",
   "execution_count": 20,
   "id": "c4402623-cd1d-4449-856a-390b99d0f9a7",
   "metadata": {},
   "outputs": [
    {
     "data": {
      "text/plain": [
       "성별코드  음주여부\n",
       "1     N       173612\n",
       "      Y       356587\n",
       "2     N       326827\n",
       "      Y       142438\n",
       "Name: 가입자일련번호, dtype: int64"
      ]
     },
     "execution_count": 20,
     "metadata": {},
     "output_type": "execute_result"
    }
   ],
   "source": [
    "# 성별코드와 음주여부로 그룹화를 하고 갯수를 세어봅니다.\n",
    "df.groupby([\"성별코드\", \"음주여부\"])[\"가입자일련번호\"].count()"
   ]
  },
  {
   "cell_type": "code",
   "execution_count": 21,
   "id": "519878aa-f011-4328-abdd-bff14b692059",
   "metadata": {},
   "outputs": [
    {
     "data": {
      "text/plain": [
       "성별코드  음주여부\n",
       "1     N       34.739868\n",
       "      Y       56.610981\n",
       "2     N       22.612408\n",
       "      Y       25.001018\n",
       "Name: 감마지티피, dtype: float64"
      ]
     },
     "execution_count": 21,
     "metadata": {},
     "output_type": "execute_result"
    }
   ],
   "source": [
    "# 성별코드와 음주여부로 그룹화를 하고 감마지티피의 평균을 구합니다.\n",
    "\n",
    "df.groupby([\"성별코드\", \"음주여부\"])[\"감마지티피\"].mean()"
   ]
  },
  {
   "cell_type": "code",
   "execution_count": 22,
   "id": "351d205a-ae58-43f8-b609-5b56a18ef7ca",
   "metadata": {},
   "outputs": [
    {
     "data": {
      "text/html": [
       "<div>\n",
       "<style scoped>\n",
       "    .dataframe tbody tr th:only-of-type {\n",
       "        vertical-align: middle;\n",
       "    }\n",
       "\n",
       "    .dataframe tbody tr th {\n",
       "        vertical-align: top;\n",
       "    }\n",
       "\n",
       "    .dataframe thead th {\n",
       "        text-align: right;\n",
       "    }\n",
       "</style>\n",
       "<table border=\"1\" class=\"dataframe\">\n",
       "  <thead>\n",
       "    <tr style=\"text-align: right;\">\n",
       "      <th></th>\n",
       "      <th></th>\n",
       "      <th>count</th>\n",
       "      <th>mean</th>\n",
       "      <th>std</th>\n",
       "      <th>min</th>\n",
       "      <th>25%</th>\n",
       "      <th>50%</th>\n",
       "      <th>75%</th>\n",
       "      <th>max</th>\n",
       "    </tr>\n",
       "    <tr>\n",
       "      <th>성별코드</th>\n",
       "      <th>음주여부</th>\n",
       "      <th></th>\n",
       "      <th></th>\n",
       "      <th></th>\n",
       "      <th></th>\n",
       "      <th></th>\n",
       "      <th></th>\n",
       "      <th></th>\n",
       "      <th></th>\n",
       "    </tr>\n",
       "  </thead>\n",
       "  <tbody>\n",
       "    <tr>\n",
       "      <th rowspan=\"2\" valign=\"top\">1</th>\n",
       "      <th>N</th>\n",
       "      <td>173604.0</td>\n",
       "      <td>34.739868</td>\n",
       "      <td>37.606197</td>\n",
       "      <td>1.0</td>\n",
       "      <td>18.0</td>\n",
       "      <td>25.0</td>\n",
       "      <td>38.0</td>\n",
       "      <td>999.0</td>\n",
       "    </tr>\n",
       "    <tr>\n",
       "      <th>Y</th>\n",
       "      <td>356576.0</td>\n",
       "      <td>56.610981</td>\n",
       "      <td>68.851128</td>\n",
       "      <td>1.0</td>\n",
       "      <td>24.0</td>\n",
       "      <td>37.0</td>\n",
       "      <td>63.0</td>\n",
       "      <td>999.0</td>\n",
       "    </tr>\n",
       "    <tr>\n",
       "      <th rowspan=\"2\" valign=\"top\">2</th>\n",
       "      <th>N</th>\n",
       "      <td>326813.0</td>\n",
       "      <td>22.612408</td>\n",
       "      <td>25.203579</td>\n",
       "      <td>1.0</td>\n",
       "      <td>13.0</td>\n",
       "      <td>17.0</td>\n",
       "      <td>24.0</td>\n",
       "      <td>999.0</td>\n",
       "    </tr>\n",
       "    <tr>\n",
       "      <th>Y</th>\n",
       "      <td>142429.0</td>\n",
       "      <td>25.001018</td>\n",
       "      <td>36.725100</td>\n",
       "      <td>1.0</td>\n",
       "      <td>13.0</td>\n",
       "      <td>17.0</td>\n",
       "      <td>25.0</td>\n",
       "      <td>999.0</td>\n",
       "    </tr>\n",
       "  </tbody>\n",
       "</table>\n",
       "</div>"
      ],
      "text/plain": [
       "              count       mean        std  min   25%   50%   75%    max\n",
       "성별코드 음주여부                                                              \n",
       "1    N     173604.0  34.739868  37.606197  1.0  18.0  25.0  38.0  999.0\n",
       "     Y     356576.0  56.610981  68.851128  1.0  24.0  37.0  63.0  999.0\n",
       "2    N     326813.0  22.612408  25.203579  1.0  13.0  17.0  24.0  999.0\n",
       "     Y     142429.0  25.001018  36.725100  1.0  13.0  17.0  25.0  999.0"
      ]
     },
     "execution_count": 22,
     "metadata": {},
     "output_type": "execute_result"
    }
   ],
   "source": [
    "# 성별코드와 음주여부로 그룹화를 하고 감마지티피의 요약수치를 구합니다.\n",
    "df.groupby([\"성별코드\", \"음주여부\"])[\"감마지티피\"].describe()"
   ]
  },
  {
   "cell_type": "code",
   "execution_count": 23,
   "id": "7690bc6d-d539-4f1f-a758-6d4151076071",
   "metadata": {},
   "outputs": [
    {
     "data": {
      "text/html": [
       "<div>\n",
       "<style scoped>\n",
       "    .dataframe tbody tr th:only-of-type {\n",
       "        vertical-align: middle;\n",
       "    }\n",
       "\n",
       "    .dataframe tbody tr th {\n",
       "        vertical-align: top;\n",
       "    }\n",
       "\n",
       "    .dataframe thead th {\n",
       "        text-align: right;\n",
       "    }\n",
       "</style>\n",
       "<table border=\"1\" class=\"dataframe\">\n",
       "  <thead>\n",
       "    <tr style=\"text-align: right;\">\n",
       "      <th></th>\n",
       "      <th></th>\n",
       "      <th>count</th>\n",
       "      <th>mean</th>\n",
       "      <th>median</th>\n",
       "    </tr>\n",
       "    <tr>\n",
       "      <th>성별코드</th>\n",
       "      <th>음주여부</th>\n",
       "      <th></th>\n",
       "      <th></th>\n",
       "      <th></th>\n",
       "    </tr>\n",
       "  </thead>\n",
       "  <tbody>\n",
       "    <tr>\n",
       "      <th rowspan=\"2\" valign=\"top\">1</th>\n",
       "      <th>N</th>\n",
       "      <td>173604</td>\n",
       "      <td>34.739868</td>\n",
       "      <td>25.0</td>\n",
       "    </tr>\n",
       "    <tr>\n",
       "      <th>Y</th>\n",
       "      <td>356576</td>\n",
       "      <td>56.610981</td>\n",
       "      <td>37.0</td>\n",
       "    </tr>\n",
       "    <tr>\n",
       "      <th rowspan=\"2\" valign=\"top\">2</th>\n",
       "      <th>N</th>\n",
       "      <td>326813</td>\n",
       "      <td>22.612408</td>\n",
       "      <td>17.0</td>\n",
       "    </tr>\n",
       "    <tr>\n",
       "      <th>Y</th>\n",
       "      <td>142429</td>\n",
       "      <td>25.001018</td>\n",
       "      <td>17.0</td>\n",
       "    </tr>\n",
       "  </tbody>\n",
       "</table>\n",
       "</div>"
      ],
      "text/plain": [
       "            count       mean  median\n",
       "성별코드 음주여부                           \n",
       "1    N     173604  34.739868    25.0\n",
       "     Y     356576  56.610981    37.0\n",
       "2    N     326813  22.612408    17.0\n",
       "     Y     142429  25.001018    17.0"
      ]
     },
     "execution_count": 23,
     "metadata": {},
     "output_type": "execute_result"
    }
   ],
   "source": [
    "# agg을 사용하면 여러 수치를 함께 구할 수 있습니다.\n",
    "df.groupby([\"성별코드\", \"음주여부\"])[\"감마지티피\"].agg([\"count\", \"mean\", \"median\"])"
   ]
  },
  {
   "cell_type": "markdown",
   "id": "37c0fa0a-5a93-49f9-81d5-0ac5c88e8f7a",
   "metadata": {},
   "source": [
    "10.2 pivot_table"
   ]
  },
  {
   "cell_type": "code",
   "execution_count": null,
   "id": "752fd456-0ae2-4549-8312-6f854288c683",
   "metadata": {},
   "outputs": [],
   "source": []
  }
 ],
 "metadata": {
  "kernelspec": {
   "display_name": "Python 3 (ipykernel)",
   "language": "python",
   "name": "python3"
  },
  "language_info": {
   "codemirror_mode": {
    "name": "ipython",
    "version": 3
   },
   "file_extension": ".py",
   "mimetype": "text/x-python",
   "name": "python",
   "nbconvert_exporter": "python",
   "pygments_lexer": "ipython3",
   "version": "3.11.7"
  }
 },
 "nbformat": 4,
 "nbformat_minor": 5
}
