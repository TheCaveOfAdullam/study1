{
  "cells": [
    {
      "cell_type": "markdown",
      "metadata": {
        "id": "view-in-github",
        "colab_type": "text"
      },
      "source": [
        "<a href=\"https://colab.research.google.com/github/TheCaveOfAdullam/study1/blob/main/marchine2.ipynb\" target=\"_parent\"><img src=\"https://colab.research.google.com/assets/colab-badge.svg\" alt=\"Open In Colab\"/></a>"
      ]
    },
    {
      "cell_type": "code",
      "execution_count": null,
      "metadata": {
        "colab": {
          "base_uri": "https://localhost:8080/"
        },
        "id": "0p1Vj8f88Eu3",
        "outputId": "3673d3cd-c385-4abd-8e4c-ffddd1953371"
      },
      "outputs": [
        {
          "output_type": "execute_result",
          "data": {
            "text/plain": [
              "['.config', 'drive', 'sample_data']"
            ]
          },
          "metadata": {},
          "execution_count": 1
        }
      ],
      "source": [
        "import os\n",
        "import numpy as np\n",
        "import matplotlib.pyplot as plt\n",
        "import pandas as pd\n",
        "import keras\n",
        "\n",
        "os.listdir()"
      ]
    },
    {
      "cell_type": "code",
      "execution_count": null,
      "metadata": {
        "id": "iO3ctwUf8Mze"
      },
      "outputs": [],
      "source": [
        "# loading img\n",
        "import PIL.Image as Image\n",
        "p = '/content/drive/MyDrive/deajeon_motor'\n",
        "os.chdir(p)"
      ]
    },
    {
      "cell_type": "code",
      "execution_count": null,
      "metadata": {
        "id": "CeayAFY98Rre"
      },
      "outputs": [],
      "source": [
        "def resize_img(img, size):\n",
        "    return img.resize(size)"
      ]
    },
    {
      "cell_type": "code",
      "execution_count": null,
      "metadata": {
        "id": "We_nAs838UAW"
      },
      "outputs": [],
      "source": [
        "def load_img(file_path):\n",
        "    data = []\n",
        "    print(p + file_path[1:] + '/')\n",
        "    for f in os.listdir(file_path):\n",
        "        data.append(resize_img(Image.open(p + file_path[1:] + '/' + f), (64, 64)))\n",
        "    return data"
      ]
    },
    {
      "cell_type": "code",
      "execution_count": null,
      "metadata": {
        "colab": {
          "base_uri": "https://localhost:8080/"
        },
        "id": "6qLZclRr8UDA",
        "outputId": "52976976-3471-4817-edfe-d65eaa0de711"
      },
      "outputs": [
        {
          "output_type": "stream",
          "name": "stdout",
          "text": [
            "/content/drive/MyDrive/deajeon_motor/train/normal/\n",
            "/content/drive/MyDrive/deajeon_motor/test/normal/\n",
            "/content/drive/MyDrive/deajeon_motor/validation/normal/\n",
            "/content/drive/MyDrive/deajeon_motor/train/fault/\n",
            "/content/drive/MyDrive/deajeon_motor/test/fault/\n",
            "/content/drive/MyDrive/deajeon_motor/validation/fault/\n"
          ]
        }
      ],
      "source": [
        "train_normal = load_img('./train/normal')  # img_data_list / element is image not nparray\n",
        "test_normal = load_img('./test/normal')\n",
        "val_normal = load_img('./validation/normal')\n",
        "\n",
        "train_fault = load_img('./train/fault')\n",
        "test_fault = load_img('./test/fault')\n",
        "val_fault = load_img('./validation/fault')"
      ]
    },
    {
      "cell_type": "code",
      "execution_count": null,
      "metadata": {
        "colab": {
          "base_uri": "https://localhost:8080/"
        },
        "id": "m7jBT0C28UFu",
        "outputId": "eaaf4625-96e4-43a9-9eb8-0ce65d5dc417"
      },
      "outputs": [
        {
          "output_type": "execute_result",
          "data": {
            "text/plain": [
              "(3000, 3000, 1500, 3000, 3000, 1500)"
            ]
          },
          "metadata": {},
          "execution_count": 6
        }
      ],
      "source": [
        "len(train_normal), len(test_normal), len(val_normal), len(train_fault), len(test_fault), len(val_fault)"
      ]
    },
    {
      "cell_type": "code",
      "execution_count": null,
      "metadata": {
        "id": "PIHA4qOc8UIg"
      },
      "outputs": [],
      "source": [
        "# Convert images to arrays and define labels\n",
        "def img_to_array(img):\n",
        "    return np.array(img, dtype='float32') / 255.0"
      ]
    },
    {
      "cell_type": "code",
      "execution_count": null,
      "metadata": {
        "id": "a16oOWo08j-2"
      },
      "outputs": [],
      "source": [
        "train_normal_arr, train_normal_sol = np.array([img_to_array(normal) for normal in train_normal]), np.array([1] * len(train_normal))\n",
        "test_normal_arr, test_normal_sol = np.array([img_to_array(normal) for normal in test_normal]), np.array([1] * len(test_normal))\n",
        "val_normal_arr, val_normal_sol = np.array([img_to_array(normal) for normal in val_normal]), np.array([1] * len(val_normal))\n",
        "\n",
        "train_fault_arr, train_fault_sol = np.array([img_to_array(fault) for fault in train_fault]), np.array([0] * len(train_fault))\n",
        "test_fault_arr, test_fault_sol = np.array([img_to_array(fault) for fault in test_fault]), np.array([0] * len(test_fault))\n",
        "val_fault_arr, val_fault_sol = np.array([img_to_array(fault) for fault in val_fault]), np.array([0] * len(val_fault))"
      ]
    },
    {
      "cell_type": "code",
      "execution_count": null,
      "metadata": {
        "id": "LU7KBWvh8kCV"
      },
      "outputs": [],
      "source": [
        "# Combine normal and fault data\n",
        "train_img, train_sol = np.concatenate((train_normal_arr, train_fault_arr)), np.concatenate((train_normal_sol, train_fault_sol))\n",
        "test_img, test_sol = np.concatenate((test_normal_arr, test_fault_arr)), np.concatenate((test_normal_sol, test_fault_sol))\n",
        "val_img, val_sol = np.concatenate((val_normal_arr, val_fault_arr)), np.concatenate((val_normal_sol, val_fault_sol))"
      ]
    },
    {
      "cell_type": "code",
      "execution_count": null,
      "metadata": {
        "id": "ek2I2Wuq8kFN"
      },
      "outputs": [],
      "source": [
        "\n",
        "# # Define and compile the model\n",
        "# model = keras.models.Sequential()\n",
        "# model.add(keras.layers.BatchNormalization(input_shape=train_img.shape[1:]))\n",
        "# model.add(keras.layers.Conv2D(filters=64, kernel_size=(5, 5), padding='same', activation='elu', input_shape=(64, 64, 3)))\n",
        "# model.add(keras.layers.MaxPooling2D(pool_size=(2, 2), strides=(2, 2)))\n",
        "# model.add(keras.layers.Dropout(0.25))\n",
        "\n",
        "# model.add(keras.layers.BatchNormalization(input_shape=train_img.shape[1:]))\n",
        "# model.add(keras.layers.Conv2D(128, (5, 5), padding='same', activation='elu'))\n",
        "# model.add(keras.layers.MaxPooling2D(pool_size=(2, 2)))\n",
        "# model.add(keras.layers.Dropout(0.25))\n",
        "\n",
        "# model.add(keras.layers.BatchNormalization(input_shape=train_img.shape[1:]))\n",
        "# model.add(keras.layers.Conv2D(256, (5, 5), padding='same', activation='elu'))\n",
        "# model.add(keras.layers.MaxPooling2D(pool_size=(2, 2), strides=(2, 2)))\n",
        "# model.add(keras.layers.Dropout(0.25))\n",
        "\n",
        "# model.add(keras.layers.Flatten())\n",
        "# model.add(keras.layers.Dense(256, activation='elu'))\n",
        "# model.add(keras.layers.Dropout(0.5))\n",
        "# model.add(keras.layers.Dense(128, activation='elu'))\n",
        "# model.add(keras.layers.Dense(1, activation='sigmoid'))\n",
        "\n",
        "# model.compile(loss='binary_crossentropy', optimizer=keras.optimizers.Adam(learning_rate=1e-3), metrics=['accuracy'])\n",
        "\n",
        "import keras\n",
        "from keras.models import Sequential\n",
        "from keras.layers import Conv2D, MaxPooling2D, Dropout, Flatten, Dense, BatchNormalization\n",
        "\n",
        "model = Sequential()\n",
        "\n",
        "# First block\n",
        "model.add(BatchNormalization(input_shape=train_img.shape[1:]))\n",
        "model.add(Conv2D(filters=64, kernel_size=(5, 5), padding='same', activation='elu'))\n",
        "model.add(MaxPooling2D(pool_size=(2, 2), strides=(2, 2)))\n",
        "model.add(Dropout(0.25))\n",
        "\n",
        "# Second block\n",
        "model.add(BatchNormalization())\n",
        "model.add(Conv2D(128, (5, 5), padding='same', activation='elu'))\n",
        "model.add(MaxPooling2D(pool_size=(2, 2)))\n",
        "model.add(Dropout(0.25))\n",
        "\n",
        "# Third block\n",
        "model.add(BatchNormalization())\n",
        "model.add(Conv2D(256, (5, 5), padding='same', activation='elu'))\n",
        "model.add(MaxPooling2D(pool_size=(2, 2), strides=(2, 2)))\n",
        "model.add(Dropout(0.25))\n",
        "\n",
        "# Fully connected layers\n",
        "model.add(Flatten())\n",
        "model.add(Dense(256, activation='elu'))\n",
        "model.add(Dropout(0.5))\n",
        "model.add(Dense(128, activation='elu'))\n",
        "model.add(Dense(1, activation='sigmoid'))\n",
        "\n",
        "# Compile the model\n",
        "model.compile(loss='binary_crossentropy', optimizer=keras.optimizers.Adam(learning_rate=1e-3), metrics=['accuracy'])"
      ]
    },
    {
      "cell_type": "code",
      "execution_count": null,
      "metadata": {
        "colab": {
          "base_uri": "https://localhost:8080/",
          "height": 166
        },
        "id": "rX7iXH3J8kIO",
        "outputId": "c1055134-f419-4210-f93a-54953dc6f97b"
      },
      "outputs": [
        {
          "output_type": "error",
          "ename": "NameError",
          "evalue": "name 'model' is not defined",
          "traceback": [
            "\u001b[0;31m---------------------------------------------------------------------------\u001b[0m",
            "\u001b[0;31mNameError\u001b[0m                                 Traceback (most recent call last)",
            "\u001b[0;32m<ipython-input-1-58e5162d5956>\u001b[0m in \u001b[0;36m<cell line: 2>\u001b[0;34m()\u001b[0m\n\u001b[1;32m      1\u001b[0m \u001b[0;31m# Train the model\u001b[0m\u001b[0;34m\u001b[0m\u001b[0;34m\u001b[0m\u001b[0m\n\u001b[0;32m----> 2\u001b[0;31m \u001b[0mmodel\u001b[0m\u001b[0;34m.\u001b[0m\u001b[0mfit\u001b[0m\u001b[0;34m(\u001b[0m\u001b[0mx\u001b[0m\u001b[0;34m=\u001b[0m\u001b[0mtrain_img\u001b[0m\u001b[0;34m,\u001b[0m \u001b[0my\u001b[0m\u001b[0;34m=\u001b[0m\u001b[0mtrain_sol\u001b[0m\u001b[0;34m,\u001b[0m \u001b[0mbatch_size\u001b[0m\u001b[0;34m=\u001b[0m\u001b[0;36m128\u001b[0m\u001b[0;34m,\u001b[0m \u001b[0mepochs\u001b[0m\u001b[0;34m=\u001b[0m\u001b[0;36m30\u001b[0m\u001b[0;34m,\u001b[0m \u001b[0mverbose\u001b[0m\u001b[0;34m=\u001b[0m\u001b[0;36m1\u001b[0m\u001b[0;34m,\u001b[0m \u001b[0mvalidation_data\u001b[0m\u001b[0;34m=\u001b[0m\u001b[0;34m(\u001b[0m\u001b[0mval_img\u001b[0m\u001b[0;34m,\u001b[0m \u001b[0mval_sol\u001b[0m\u001b[0;34m)\u001b[0m\u001b[0;34m)\u001b[0m\u001b[0;34m\u001b[0m\u001b[0;34m\u001b[0m\u001b[0m\n\u001b[0m",
            "\u001b[0;31mNameError\u001b[0m: name 'model' is not defined"
          ]
        }
      ],
      "source": [
        "# Train the model\n",
        "model.fit(x=train_img, y=train_sol, batch_size=128, epochs=30, verbose=1, validation_data=(val_img, val_sol))"
      ]
    },
    {
      "cell_type": "code",
      "execution_count": null,
      "metadata": {
        "id": "nz-VqiKq8ULO"
      },
      "outputs": [],
      "source": [
        "# Evaluate the model on test data\n",
        "model.evaluate(test_img, test_sol, batch_size=128)"
      ]
    },
    {
      "cell_type": "code",
      "execution_count": null,
      "metadata": {
        "id": "wiPLp4YFg47i"
      },
      "outputs": [],
      "source": []
    }
  ],
  "metadata": {
    "colab": {
      "provenance": [],
      "mount_file_id": "1T1F1OLKqPRP9UCip_PA1lMQww16PxNZY",
      "authorship_tag": "ABX9TyP+de2D0jwBLdG8GMjkO1bF",
      "include_colab_link": true
    },
    "kernelspec": {
      "display_name": "Python 3",
      "name": "python3"
    },
    "language_info": {
      "name": "python"
    }
  },
  "nbformat": 4,
  "nbformat_minor": 0
}