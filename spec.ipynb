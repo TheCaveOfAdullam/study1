{
 "cells": [
  {
   "cell_type": "code",
   "execution_count": 59,
   "id": "10e84890-3eea-48ba-8585-8c1df806445f",
   "metadata": {},
   "outputs": [],
   "source": [
    "import numpy as np\n",
    "import pandas as pd\n",
    "import os\n",
    "import matplotlib.pyplot as plt\n",
    "from scipy.signal import stft"
   ]
  },
  {
   "cell_type": "code",
   "execution_count": 60,
   "id": "08719ff9-b565-4978-a286-64f46f620eac",
   "metadata": {},
   "outputs": [],
   "source": [
    "def process_data_and_save_as_spectrogram(csv_file, window_size=100, output_dir='spectrograms'):\n",
    "    # CSV 파일에서 데이터 읽기\n",
    "    data = pd.read_csv(csv_file)\n",
    "    num_rows = len(data)\n",
    "    \n",
    "    # 스펙트로그램을 저장할 디렉토리 생성\n",
    "    os.makedirs(output_dir, exist_ok=True)\n",
    "    \n",
    "    # 데이터를 100행씩 처리하면서 스펙트로그램 생성 및 저장\n",
    "    for i in range(0, num_rows, window_size):\n",
    "        segment = data.iloc[i:i+window_size]\n",
    "        waveform = segment['y'].values\n",
    "        \n",
    "        # STFT를 통해 스펙트로그램 생성\n",
    "        f, t, Zxx = stft(waveform, fs=1)\n",
    "        \n",
    "        # 스펙트로그램 이미지 그리기\n",
    "        plt.figure(figsize=(10, 4))\n",
    "        plt.pcolormesh(t, f, np.abs(Zxx), shading='gouraud')\n",
    "        plt.colorbar(format='%+2.0f dB')\n",
    "        plt.title('Spectrogram')\n",
    "        plt.savefig(os.path.join(output_dir, f'spectrogram3_{i}.png'))\n",
    "        plt.close()\n",
    "    \n",
    "    print(\"모든 스펙트로그램을 저장했습니다.\")"
   ]
  },
  {
   "cell_type": "code",
   "execution_count": 61,
   "id": "913c3f2d-06e9-4504-a093-0034609ee4d0",
   "metadata": {},
   "outputs": [],
   "source": [
    "# CSV 파일 경로 설정\n",
    "csv_file = 'data/fault/STFMK-20201105-LW15-2055_20201201_161519_004.csv'"
   ]
  },
  {
   "cell_type": "code",
   "execution_count": 62,
   "id": "9ac9dcb7-8bdc-4d03-bc95-9abf97090d2d",
   "metadata": {},
   "outputs": [
    {
     "name": "stderr",
     "output_type": "stream",
     "text": [
      "C:\\Users\\USER\\anaconda3\\Lib\\site-packages\\scipy\\signal\\_spectral_py.py:1240: UserWarning: nperseg = 256 is greater than input length  = 100, using nperseg = 100\n",
      "  freqs, time, Zxx = _spectral_helper(x, x, fs, window, nperseg, noverlap,\n"
     ]
    },
    {
     "name": "stdout",
     "output_type": "stream",
     "text": [
      "모든 스펙트로그램을 저장했습니다.\n"
     ]
    }
   ],
   "source": [
    "# 함수 호출하여 스펙트로그램 생성 및 저장\n",
    "process_data_and_save_as_spectrogram(csv_file)"
   ]
  },
  {
   "cell_type": "code",
   "execution_count": null,
   "id": "84f87f57-3dc1-4003-9bfd-4b80ab2c9cb9",
   "metadata": {},
   "outputs": [],
   "source": []
  }
 ],
 "metadata": {
  "kernelspec": {
   "display_name": "Python 3 (ipykernel)",
   "language": "python",
   "name": "python3"
  },
  "language_info": {
   "codemirror_mode": {
    "name": "ipython",
    "version": 3
   },
   "file_extension": ".py",
   "mimetype": "text/x-python",
   "name": "python",
   "nbconvert_exporter": "python",
   "pygments_lexer": "ipython3",
   "version": "3.11.7"
  }
 },
 "nbformat": 4,
 "nbformat_minor": 5
}
