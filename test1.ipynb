{
 "cells": [
  {
   "cell_type": "code",
   "execution_count": 6,
   "id": "66e572d7-3129-431f-a699-35cc70fc2a0e",
   "metadata": {},
   "outputs": [],
   "source": [
    "import os\n",
    "import csv\n",
    "\n",
    "# 입력 및 출력 디렉토리 설정\n",
    "input_dir = 'exel1'\n",
    "output_dir = 'output_directory'\n",
    "\n",
    "# 입력 디렉토리 내의 모든 파일에 대해 처리\n",
    "for filename in os.listdir(input_dir):\n",
    "    if filename.endswith('.csv'):  # CSV 파일만 처리\n",
    "        input_file = os.path.join(input_dir, filename)\n",
    "        output_file = os.path.join(output_dir, filename)\n",
    "        \n",
    "        with open(input_file, 'r', encoding='utf-8') as infile, open(output_file, 'w', newline='', encoding='utf-8') as outfile:\n",
    "            reader = csv.reader(infile)\n",
    "            writer = csv.writer(outfile)\n",
    "            for row in reader:\n",
    "                new_row = row[:2]  # 처음 두 열만 남기기\n",
    "                writer.writerow(new_row)"
   ]
  },
  {
   "cell_type": "code",
   "execution_count": null,
   "id": "4cc30d47-0d12-4d37-bcde-fa60b064fa0d",
   "metadata": {},
   "outputs": [],
   "source": []
  }
 ],
 "metadata": {
  "kernelspec": {
   "display_name": "Python 3 (ipykernel)",
   "language": "python",
   "name": "python3"
  },
  "language_info": {
   "codemirror_mode": {
    "name": "ipython",
    "version": 3
   },
   "file_extension": ".py",
   "mimetype": "text/x-python",
   "name": "python",
   "nbconvert_exporter": "python",
   "pygments_lexer": "ipython3",
   "version": "3.11.7"
  }
 },
 "nbformat": 4,
 "nbformat_minor": 5
}
