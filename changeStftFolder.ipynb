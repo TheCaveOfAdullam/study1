{
 "cells": [
  {
   "cell_type": "code",
   "execution_count": 4,
   "id": "0a4b8107-e123-48bf-a13a-dec80237ca2a",
   "metadata": {},
   "outputs": [
    {
     "name": "stdout",
     "output_type": "stream",
     "text": [
      "Spectrogram images have been saved.\n"
     ]
    }
   ],
   "source": [
    "import numpy as np\n",
    "import pandas as pd\n",
    "from scipy.signal import stft\n",
    "import matplotlib.pyplot as plt\n",
    "import os\n",
    "import glob\n",
    "\n",
    "# CSV 파일이 있는 폴더 경로\n",
    "folder_path = ''  # 여기에 실제 폴더 경로를 입력하세요.\n",
    "\n",
    "# 출력 디렉토리 설정\n",
    "output_dir = 'spectrogram_images'\n",
    "os.makedirs(output_dir, exist_ok=True)\n",
    "\n",
    "# STFT 설정\n",
    "fs = 1.0  # 샘플링 주파수 (필요에 따라 변경하세요)\n",
    "nperseg = 256  # 각 세그먼트의 길이\n",
    "\n",
    "# 폴더 내 모든 CSV 파일에 대해 반복 처리\n",
    "csv_files = glob.glob(os.path.join(folder_path, '*.csv'))\n",
    "\n",
    "for file_index, csv_file_path in enumerate(csv_files):\n",
    "    # CSV 파일 읽기\n",
    "    data = pd.read_csv(csv_file_path, header=None)\n",
    "    \n",
    "    # 모든 데이터를 숫자로 변환 (문자가 있을 경우 에러 방지)\n",
    "    data = data.apply(pd.to_numeric, errors='coerce')\n",
    "\n",
    "    # 데이터를 4000행씩 나누어 처리\n",
    "    segment_length = 4000\n",
    "    num_segments = data.shape[0] // segment_length\n",
    "\n",
    "    for i in range(num_segments):\n",
    "        segment = data.iloc[i*segment_length:(i+1)*segment_length].values\n",
    "        \n",
    "        # STFT를 각 채널에 대해 계산하고 스펙트로그램 생성\n",
    "        for channel in range(segment.shape[1]):\n",
    "            f, t, Zxx = stft(segment[:, channel], fs=fs, nperseg=nperseg)\n",
    "            \n",
    "            # 스펙트로그램 이미지 저장\n",
    "            plt.figure(figsize=(10, 5))\n",
    "            plt.pcolormesh(t, f, np.abs(Zxx), shading='gouraud')\n",
    "            plt.title(f'Spectrogram File {file_index+1} Segment {i+1} Channel {channel+1}')\n",
    "            plt.ylabel('Frequency [Hz]')\n",
    "            plt.xlabel('Time [sec]')\n",
    "            plt.colorbar(label='Intensity')\n",
    "            plt.tight_layout()\n",
    "            \n",
    "            output_file = os.path.join(output_dir, f'spectrogram_file_{file_index+1}_segment_{i+1}_channel_{channel+1}.png')\n",
    "            plt.savefig(output_file)\n",
    "            plt.close()\n",
    "\n",
    "print(\"Spectrogram images have been saved.\")"
   ]
  },
  {
   "cell_type": "code",
   "execution_count": null,
   "id": "c7fd0901-5037-47f2-8295-099181b1825e",
   "metadata": {},
   "outputs": [],
   "source": []
  }
 ],
 "metadata": {
  "kernelspec": {
   "display_name": "Python 3 (ipykernel)",
   "language": "python",
   "name": "python3"
  },
  "language_info": {
   "codemirror_mode": {
    "name": "ipython",
    "version": 3
   },
   "file_extension": ".py",
   "mimetype": "text/x-python",
   "name": "python",
   "nbconvert_exporter": "python",
   "pygments_lexer": "ipython3",
   "version": "3.11.7"
  }
 },
 "nbformat": 4,
 "nbformat_minor": 5
}
