{
 "cells": [
  {
   "cell_type": "code",
   "execution_count": 17,
   "id": "ef20cb87-d0fa-4570-80c2-d689ee7b39bd",
   "metadata": {},
   "outputs": [],
   "source": [
    "import os\n",
    "import csv\n",
    "\n",
    "# 입력 및 출력 디렉토리 설정\n",
    "input_dir = 'data/validation/fault'\n",
    "output_dir = 'fault4'\n",
    "\n",
    "# 입력 디렉토리 내의 모든 파일에 대해 처리\n",
    "for filename in os.listdir(input_dir):\n",
    "    if filename.endswith('.csv'):  # CSV 파일만 처리\n",
    "        input_file = os.path.join(input_dir, filename)\n",
    "        output_file = os.path.join(output_dir, filename)\n",
    "        \n",
    "        with open(input_file, 'r', encoding='utf-8') as infile, open(output_file, 'w', newline='', encoding='utf-8') as outfile:\n",
    "            reader = csv.reader(infile)\n",
    "            writer = csv.writer(outfile)\n",
    "            for row in reader:\n",
    "                new_row = row[:2]  # 처음 두 열만 남기기\n",
    "                writer.writerow(new_row)"
   ]
  },
  {
   "cell_type": "code",
   "execution_count": 18,
   "id": "1d733428-5b2b-46a9-80e6-0c48298b0a5e",
   "metadata": {},
   "outputs": [],
   "source": [
    "import pandas as pd\n",
    "\n",
    "# 디렉토리 경로 설정\n",
    "directory = 'fault4'\n",
    "\n",
    "# 디렉토리 내 모든 파일에 대해 작업 수행\n",
    "for filename in os.listdir(directory):\n",
    "    if filename.endswith('.csv'):\n",
    "        file_path = os.path.join(directory, filename)\n",
    "        \n",
    "        # CSV 파일을 DataFrame으로 읽기\n",
    "        df = pd.read_csv(file_path)\n",
    "        \n",
    "        # 첫 번째 행 삭제\n",
    "        df = df.iloc[8:]\n",
    "        \n",
    "        # 첫 번째 행 열값 수정\n",
    "        df.columns = ['x', 'y']  # 열명 변경\n",
    "        \n",
    "        # 수정된 DataFrame을 CSV 파일로 저장\n",
    "        df.to_csv(file_path, index=False)  # 인덱스는 저장하지 않음"
   ]
  },
  {
   "cell_type": "code",
   "execution_count": null,
   "id": "3c16a30c-a1fb-4768-a59b-f55971594161",
   "metadata": {},
   "outputs": [],
   "source": []
  }
 ],
 "metadata": {
  "kernelspec": {
   "display_name": "Python 3 (ipykernel)",
   "language": "python",
   "name": "python3"
  },
  "language_info": {
   "codemirror_mode": {
    "name": "ipython",
    "version": 3
   },
   "file_extension": ".py",
   "mimetype": "text/x-python",
   "name": "python",
   "nbconvert_exporter": "python",
   "pygments_lexer": "ipython3",
   "version": "3.11.7"
  }
 },
 "nbformat": 4,
 "nbformat_minor": 5
}
